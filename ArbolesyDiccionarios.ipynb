{
  "cells": [
    {
      "attachments": {},
      "cell_type": "markdown",
      "metadata": {
        "id": "WQmUnZIzi3X9"
      },
      "source": [
        "# **Arboles y diccionarios:** \n",
        "###Integrantes:\n",
        "\n",
        "- Delgadillo Zúñiga Brandon Arturo\n",
        "\n"
      ]
    },
    {
      "cell_type": "code",
      "execution_count": null,
      "metadata": {
        "colab": {
          "base_uri": "https://localhost:8080/"
        },
        "id": "vm_NosU4PrGD",
        "outputId": "8ed0c972-dc8c-4457-eeaa-477ee7efd2d2"
      },
      "outputs": [
        {
          "name": "stdout",
          "output_type": "stream",
          "text": [
            "Looking in indexes: https://pypi.org/simple, https://us-python.pkg.dev/colab-wheels/public/simple/\n",
            "Requirement already satisfied: spacy in /usr/local/lib/python3.9/dist-packages (3.5.1)\n",
            "Requirement already satisfied: preshed<3.1.0,>=3.0.2 in /usr/local/lib/python3.9/dist-packages (from spacy) (3.0.8)\n",
            "Requirement already satisfied: pydantic!=1.8,!=1.8.1,<1.11.0,>=1.7.4 in /usr/local/lib/python3.9/dist-packages (from spacy) (1.10.6)\n",
            "Requirement already satisfied: pathy>=0.10.0 in /usr/local/lib/python3.9/dist-packages (from spacy) (0.10.1)\n",
            "Requirement already satisfied: wasabi<1.2.0,>=0.9.1 in /usr/local/lib/python3.9/dist-packages (from spacy) (1.1.1)\n",
            "Requirement already satisfied: tqdm<5.0.0,>=4.38.0 in /usr/local/lib/python3.9/dist-packages (from spacy) (4.65.0)\n",
            "Requirement already satisfied: jinja2 in /usr/local/lib/python3.9/dist-packages (from spacy) (3.1.2)\n",
            "Requirement already satisfied: spacy-loggers<2.0.0,>=1.0.0 in /usr/local/lib/python3.9/dist-packages (from spacy) (1.0.4)\n",
            "Requirement already satisfied: packaging>=20.0 in /usr/local/lib/python3.9/dist-packages (from spacy) (23.0)\n",
            "Requirement already satisfied: spacy-legacy<3.1.0,>=3.0.11 in /usr/local/lib/python3.9/dist-packages (from spacy) (3.0.12)\n",
            "Requirement already satisfied: smart-open<7.0.0,>=5.2.1 in /usr/local/lib/python3.9/dist-packages (from spacy) (6.3.0)\n",
            "Requirement already satisfied: requests<3.0.0,>=2.13.0 in /usr/local/lib/python3.9/dist-packages (from spacy) (2.27.1)\n",
            "Requirement already satisfied: thinc<8.2.0,>=8.1.8 in /usr/local/lib/python3.9/dist-packages (from spacy) (8.1.9)\n",
            "Requirement already satisfied: cymem<2.1.0,>=2.0.2 in /usr/local/lib/python3.9/dist-packages (from spacy) (2.0.7)\n",
            "Requirement already satisfied: srsly<3.0.0,>=2.4.3 in /usr/local/lib/python3.9/dist-packages (from spacy) (2.4.6)\n",
            "Requirement already satisfied: catalogue<2.1.0,>=2.0.6 in /usr/local/lib/python3.9/dist-packages (from spacy) (2.0.8)\n",
            "Requirement already satisfied: typer<0.8.0,>=0.3.0 in /usr/local/lib/python3.9/dist-packages (from spacy) (0.7.0)\n",
            "Requirement already satisfied: langcodes<4.0.0,>=3.2.0 in /usr/local/lib/python3.9/dist-packages (from spacy) (3.3.0)\n",
            "Requirement already satisfied: setuptools in /usr/local/lib/python3.9/dist-packages (from spacy) (63.4.3)\n",
            "Requirement already satisfied: murmurhash<1.1.0,>=0.28.0 in /usr/local/lib/python3.9/dist-packages (from spacy) (1.0.9)\n",
            "Requirement already satisfied: numpy>=1.15.0 in /usr/local/lib/python3.9/dist-packages (from spacy) (1.22.4)\n",
            "Requirement already satisfied: typing-extensions>=4.2.0 in /usr/local/lib/python3.9/dist-packages (from pydantic!=1.8,!=1.8.1,<1.11.0,>=1.7.4->spacy) (4.5.0)\n",
            "Requirement already satisfied: charset-normalizer~=2.0.0 in /usr/local/lib/python3.9/dist-packages (from requests<3.0.0,>=2.13.0->spacy) (2.0.12)\n",
            "Requirement already satisfied: certifi>=2017.4.17 in /usr/local/lib/python3.9/dist-packages (from requests<3.0.0,>=2.13.0->spacy) (2022.12.7)\n",
            "Requirement already satisfied: idna<4,>=2.5 in /usr/local/lib/python3.9/dist-packages (from requests<3.0.0,>=2.13.0->spacy) (3.4)\n",
            "Requirement already satisfied: urllib3<1.27,>=1.21.1 in /usr/local/lib/python3.9/dist-packages (from requests<3.0.0,>=2.13.0->spacy) (1.26.15)\n",
            "Requirement already satisfied: confection<1.0.0,>=0.0.1 in /usr/local/lib/python3.9/dist-packages (from thinc<8.2.0,>=8.1.8->spacy) (0.0.4)\n",
            "Requirement already satisfied: blis<0.8.0,>=0.7.8 in /usr/local/lib/python3.9/dist-packages (from thinc<8.2.0,>=8.1.8->spacy) (0.7.9)\n",
            "Requirement already satisfied: click<9.0.0,>=7.1.1 in /usr/local/lib/python3.9/dist-packages (from typer<0.8.0,>=0.3.0->spacy) (8.1.3)\n",
            "Requirement already satisfied: MarkupSafe>=2.0 in /usr/local/lib/python3.9/dist-packages (from jinja2->spacy) (2.1.2)\n"
          ]
        },
        {
          "name": "stderr",
          "output_type": "stream",
          "text": [
            "/usr/local/lib/python3.9/dist-packages/torch/cuda/__init__.py:497: UserWarning: Can't initialize NVML\n",
            "  warnings.warn(\"Can't initialize NVML\")\n"
          ]
        },
        {
          "name": "stdout",
          "output_type": "stream",
          "text": [
            "/usr/local/lib/python3.9/dist-packages/torch/cuda/__init__.py:497: UserWarning: Can't initialize NVML\n",
            "  warnings.warn(\"Can't initialize NVML\")\n",
            "2023-03-18 02:02:24.723401: W tensorflow/compiler/xla/stream_executor/platform/default/dso_loader.cc:64] Could not load dynamic library 'libnvinfer.so.7'; dlerror: libnvinfer.so.7: cannot open shared object file: No such file or directory; LD_LIBRARY_PATH: /usr/local/nvidia/lib:/usr/local/nvidia/lib64\n",
            "2023-03-18 02:02:24.723570: W tensorflow/compiler/xla/stream_executor/platform/default/dso_loader.cc:64] Could not load dynamic library 'libnvinfer_plugin.so.7'; dlerror: libnvinfer_plugin.so.7: cannot open shared object file: No such file or directory; LD_LIBRARY_PATH: /usr/local/nvidia/lib:/usr/local/nvidia/lib64\n",
            "2023-03-18 02:02:24.723596: W tensorflow/compiler/tf2tensorrt/utils/py_utils.cc:38] TF-TRT Warning: Cannot dlopen some TensorRT libraries. If you would like to use Nvidia GPU with TensorRT, please make sure the missing libraries mentioned above are installed properly.\n",
            "2023-03-18 02:02:26.661958: E tensorflow/compiler/xla/stream_executor/cuda/cuda_driver.cc:267] failed call to cuInit: CUDA_ERROR_NO_DEVICE: no CUDA-capable device is detected\n",
            "\u001b[38;5;3m⚠ As of spaCy v3.0, shortcuts like 'es' are deprecated. Please use the\n",
            "full pipeline package name 'es_core_news_sm' instead.\u001b[0m\n",
            "Looking in indexes: https://pypi.org/simple, https://us-python.pkg.dev/colab-wheels/public/simple/\n",
            "Collecting es-core-news-sm==3.5.0\n",
            "  Downloading https://github.com/explosion/spacy-models/releases/download/es_core_news_sm-3.5.0/es_core_news_sm-3.5.0-py3-none-any.whl (12.9 MB)\n",
            "\u001b[2K     \u001b[90m━━━━━━━━━━━━━━━━━━━━━━━━━━━━━━━━━━━━━━━━\u001b[0m \u001b[32m12.9/12.9 MB\u001b[0m \u001b[31m46.0 MB/s\u001b[0m eta \u001b[36m0:00:00\u001b[0m\n",
            "\u001b[?25hRequirement already satisfied: spacy<3.6.0,>=3.5.0 in /usr/local/lib/python3.9/dist-packages (from es-core-news-sm==3.5.0) (3.5.1)\n",
            "Requirement already satisfied: typer<0.8.0,>=0.3.0 in /usr/local/lib/python3.9/dist-packages (from spacy<3.6.0,>=3.5.0->es-core-news-sm==3.5.0) (0.7.0)\n",
            "Requirement already satisfied: pathy>=0.10.0 in /usr/local/lib/python3.9/dist-packages (from spacy<3.6.0,>=3.5.0->es-core-news-sm==3.5.0) (0.10.1)\n",
            "Requirement already satisfied: packaging>=20.0 in /usr/local/lib/python3.9/dist-packages (from spacy<3.6.0,>=3.5.0->es-core-news-sm==3.5.0) (23.0)\n",
            "Requirement already satisfied: catalogue<2.1.0,>=2.0.6 in /usr/local/lib/python3.9/dist-packages (from spacy<3.6.0,>=3.5.0->es-core-news-sm==3.5.0) (2.0.8)\n",
            "Requirement already satisfied: srsly<3.0.0,>=2.4.3 in /usr/local/lib/python3.9/dist-packages (from spacy<3.6.0,>=3.5.0->es-core-news-sm==3.5.0) (2.4.6)\n",
            "Requirement already satisfied: setuptools in /usr/local/lib/python3.9/dist-packages (from spacy<3.6.0,>=3.5.0->es-core-news-sm==3.5.0) (63.4.3)\n",
            "Requirement already satisfied: smart-open<7.0.0,>=5.2.1 in /usr/local/lib/python3.9/dist-packages (from spacy<3.6.0,>=3.5.0->es-core-news-sm==3.5.0) (6.3.0)\n",
            "Requirement already satisfied: requests<3.0.0,>=2.13.0 in /usr/local/lib/python3.9/dist-packages (from spacy<3.6.0,>=3.5.0->es-core-news-sm==3.5.0) (2.27.1)\n",
            "Requirement already satisfied: preshed<3.1.0,>=3.0.2 in /usr/local/lib/python3.9/dist-packages (from spacy<3.6.0,>=3.5.0->es-core-news-sm==3.5.0) (3.0.8)\n",
            "Requirement already satisfied: spacy-legacy<3.1.0,>=3.0.11 in /usr/local/lib/python3.9/dist-packages (from spacy<3.6.0,>=3.5.0->es-core-news-sm==3.5.0) (3.0.12)\n",
            "Requirement already satisfied: pydantic!=1.8,!=1.8.1,<1.11.0,>=1.7.4 in /usr/local/lib/python3.9/dist-packages (from spacy<3.6.0,>=3.5.0->es-core-news-sm==3.5.0) (1.10.6)\n",
            "Requirement already satisfied: jinja2 in /usr/local/lib/python3.9/dist-packages (from spacy<3.6.0,>=3.5.0->es-core-news-sm==3.5.0) (3.1.2)\n",
            "Requirement already satisfied: tqdm<5.0.0,>=4.38.0 in /usr/local/lib/python3.9/dist-packages (from spacy<3.6.0,>=3.5.0->es-core-news-sm==3.5.0) (4.65.0)\n",
            "Requirement already satisfied: murmurhash<1.1.0,>=0.28.0 in /usr/local/lib/python3.9/dist-packages (from spacy<3.6.0,>=3.5.0->es-core-news-sm==3.5.0) (1.0.9)\n",
            "Requirement already satisfied: thinc<8.2.0,>=8.1.8 in /usr/local/lib/python3.9/dist-packages (from spacy<3.6.0,>=3.5.0->es-core-news-sm==3.5.0) (8.1.9)\n",
            "Requirement already satisfied: cymem<2.1.0,>=2.0.2 in /usr/local/lib/python3.9/dist-packages (from spacy<3.6.0,>=3.5.0->es-core-news-sm==3.5.0) (2.0.7)\n",
            "Requirement already satisfied: spacy-loggers<2.0.0,>=1.0.0 in /usr/local/lib/python3.9/dist-packages (from spacy<3.6.0,>=3.5.0->es-core-news-sm==3.5.0) (1.0.4)\n",
            "Requirement already satisfied: langcodes<4.0.0,>=3.2.0 in /usr/local/lib/python3.9/dist-packages (from spacy<3.6.0,>=3.5.0->es-core-news-sm==3.5.0) (3.3.0)\n",
            "Requirement already satisfied: numpy>=1.15.0 in /usr/local/lib/python3.9/dist-packages (from spacy<3.6.0,>=3.5.0->es-core-news-sm==3.5.0) (1.22.4)\n",
            "Requirement already satisfied: wasabi<1.2.0,>=0.9.1 in /usr/local/lib/python3.9/dist-packages (from spacy<3.6.0,>=3.5.0->es-core-news-sm==3.5.0) (1.1.1)\n",
            "Requirement already satisfied: typing-extensions>=4.2.0 in /usr/local/lib/python3.9/dist-packages (from pydantic!=1.8,!=1.8.1,<1.11.0,>=1.7.4->spacy<3.6.0,>=3.5.0->es-core-news-sm==3.5.0) (4.5.0)\n",
            "Requirement already satisfied: idna<4,>=2.5 in /usr/local/lib/python3.9/dist-packages (from requests<3.0.0,>=2.13.0->spacy<3.6.0,>=3.5.0->es-core-news-sm==3.5.0) (3.4)\n",
            "Requirement already satisfied: certifi>=2017.4.17 in /usr/local/lib/python3.9/dist-packages (from requests<3.0.0,>=2.13.0->spacy<3.6.0,>=3.5.0->es-core-news-sm==3.5.0) (2022.12.7)\n",
            "Requirement already satisfied: urllib3<1.27,>=1.21.1 in /usr/local/lib/python3.9/dist-packages (from requests<3.0.0,>=2.13.0->spacy<3.6.0,>=3.5.0->es-core-news-sm==3.5.0) (1.26.15)\n",
            "Requirement already satisfied: charset-normalizer~=2.0.0 in /usr/local/lib/python3.9/dist-packages (from requests<3.0.0,>=2.13.0->spacy<3.6.0,>=3.5.0->es-core-news-sm==3.5.0) (2.0.12)\n",
            "Requirement already satisfied: confection<1.0.0,>=0.0.1 in /usr/local/lib/python3.9/dist-packages (from thinc<8.2.0,>=8.1.8->spacy<3.6.0,>=3.5.0->es-core-news-sm==3.5.0) (0.0.4)\n",
            "Requirement already satisfied: blis<0.8.0,>=0.7.8 in /usr/local/lib/python3.9/dist-packages (from thinc<8.2.0,>=8.1.8->spacy<3.6.0,>=3.5.0->es-core-news-sm==3.5.0) (0.7.9)\n",
            "Requirement already satisfied: click<9.0.0,>=7.1.1 in /usr/local/lib/python3.9/dist-packages (from typer<0.8.0,>=0.3.0->spacy<3.6.0,>=3.5.0->es-core-news-sm==3.5.0) (8.1.3)\n",
            "Requirement already satisfied: MarkupSafe>=2.0 in /usr/local/lib/python3.9/dist-packages (from jinja2->spacy<3.6.0,>=3.5.0->es-core-news-sm==3.5.0) (2.1.2)\n",
            "Installing collected packages: es-core-news-sm\n",
            "Successfully installed es-core-news-sm-3.5.0\n",
            "\u001b[38;5;2m✔ Download and installation successful\u001b[0m\n",
            "You can now load the package via spacy.load('es_core_news_sm')\n"
          ]
        }
      ],
      "source": [
        "\"\"\"\n",
        "\n",
        "Tarea #2 :Arboles y diccionarios.\n",
        "\n",
        "Integrantes ( orden alfabetico ):\n",
        "\n",
        "Delgadillo Zúñiga Brandon Arturo ( DZBA )\n",
        "\n",
        "Nombre del programa : Tarea2:ArbolesyDiccionarios.ipynb\n",
        "\n",
        "\"\"\"\n",
        "# ----- seccion de bibliotecas .\n",
        "import random\n",
        "import re\n",
        "from collections import Counter\n",
        "!pip install -U spacy\n",
        "import spacy\n",
        "!python -m spacy download es\n",
        "# Clase Nodo necesaria para generar arboles binarios\n",
        "class Nodo(object):\n",
        "  '''\n",
        "  Constructor de nodos\n",
        "  dato: es el contenido del nodo\n",
        "  '''\n",
        "  def __init__(self, dato)-> None:\n",
        "    self.izq = None\n",
        "    self.dato = dato\n",
        "    self.der = None\n",
        "    self.padre = None\n",
        "\n",
        "  # Nos dice si el nodo tiene al menos un hijo    \n",
        "  def tieneHijos(self)-> bool:\n",
        "    return self.izq is not None and self.der is not None\n",
        "  \n",
        "  # Nos dide si el nodo es un hijo izquierdo\n",
        "  def esIzq(self)-> bool:\n",
        "    return self.padre.izq == self\n",
        "  \n",
        "  # Nos dice si el nodo es un hijo derecho\n",
        "  def esDer(self)-> bool:\n",
        "    return self.padre.der == self\n",
        "  \n",
        "  # Imprime el contenido del nodo\n",
        "  def __str__(self)-> str:\n",
        "    if self.dato is None:\n",
        "      pass\n",
        "    else:\n",
        "      return '{}'.format(self.dato)\n",
        "\n",
        "######## declarar nuevo método\n",
        "  def cuantos_hijos(self)-> int:\n",
        "        '''documentar'''\n",
        "        #caso sin hijos\n",
        "        if ((self.izq is None) and (self.der is None)):\n",
        "            return 0\n",
        "        #casos donde solo tiene un hijo\n",
        "        elif ((self.izq is not None) and (self.der is None)):\n",
        "            return 1\n",
        "        elif ((self.izq is None) and (self.der is not None)):\n",
        "            return 1\n",
        "        #casos donde tiene 2 hijos\n",
        "        elif ((self.izq is not None) and (self.der is not None)):\n",
        "            return 2  "
      ]
    },
    {
      "attachments": {},
      "cell_type": "markdown",
      "metadata": {
        "id": "xMZ625o9y74E"
      },
      "source": [
        "# Arboles Binarios de Búsqueda\n",
        "Para fines de esta tarea, importaremos todas las clases vistas en clase, las cuales incluyen nodo, AB y ABB."
      ]
    },
    {
      "cell_type": "code",
      "execution_count": null,
      "metadata": {
        "id": "qpA0cGzCTybe"
      },
      "outputs": [],
      "source": [
        "#AB\n",
        "''' Clase AB (ArbolBinario), genera la estructura de un arbol binario, asi como sus funciones.'''\n",
        "class AB(object):\n",
        "\n",
        "  ''' Consructor de arboles binarios'''\n",
        "  def __init__(self, dato)-> None:\n",
        "    self.raiz = Nodo(dato)\n",
        "      \n",
        "  ''' Elimina todo el arbol'''\n",
        "  def elimina(self)-> None:\n",
        "    self.raiz = None\n",
        "      \n",
        "  ''' Devuelve el nivel del nodo que se le pasa como parametro.\n",
        "      La raiz se ubica en el nivel cero'''\n",
        "  def nivel(self, nodo)-> int:\n",
        "    if nodo is None:\n",
        "      return -1\n",
        "    else:\n",
        "      return 1 + self.nivel(nodo.padre)\n",
        "\n",
        "  ''' Devuelve la altura a partir del nodo que se le pasa como parametro,\n",
        "      si el arbol es vacio la altura es cero, si no se le suma 1 al maximo\n",
        "      de las alturas de sus hijos'''\n",
        "  def altura(self, nodo)-> int:\n",
        "    if nodo is None:\n",
        "      return 0\n",
        "    else:\n",
        "      return 1 + max(self.altura(nodo.izq), self.altura(nodo.der))\n",
        "      \n",
        "  ''' Inserta recursivamente un dato en el arbol de manera recursiva\n",
        "      nodo: es el nodo a partir del cual se quiere insertar\n",
        "      dato: es el dato que se quiere insertar\n",
        "  '''\n",
        "  def insertar_nodo(self, nodo, dato)-> None:\n",
        "    # si el nodo es vacio ahi se crea el nuevo nodo\n",
        "    if nodo is None:\n",
        "      nuevo_nodo = Nodo(dato)\n",
        "      return nuevo_nodo\n",
        "    # dado que en los AB no hay un orden el nuevo nodo se inserta donde sea\n",
        "    if bool(random.getrandbits(1)):\n",
        "      nuevo_nodo = self.insertar_nodo(nodo.izq, dato)\n",
        "      nodo.izq = nuevo_nodo\n",
        "      nuevo_nodo.padre = nodo\n",
        "    else:\n",
        "      nuevo_nodo = self.insertar_nodo(nodo.der, dato)\n",
        "      nodo.der = nuevo_nodo\n",
        "      nuevo_nodo.padre = nodo\n",
        "    #nodo guarda toda la ruta de donde sera insertado el dato\n",
        "    #hasta caer en el caso base, es por eso que se devuelve    \n",
        "    return nodo\n",
        "  \n",
        "  ''' Inserta un nodo en el arbol, a partir de la raiz'''\n",
        "  def insertar(self, dato)-> None:\n",
        "    #Se inserta el dato desde la raiz\n",
        "    self.insertar_nodo(self.raiz, dato)\n",
        "      \n",
        "  ''' Recorre el arbol enorden e imprime cada uno de sus nodos'''\n",
        "  def recorrido_enorden(self, nodo)-> None:\n",
        "    if nodo is not None:\n",
        "      self.recorrido_enorden(nodo.izq)\n",
        "      print(nodo.dato)\n",
        "      self.recorrido_enorden(nodo.der)\n",
        "\n",
        "  ''' Recorre el arbol preorden e imprime cada uno de sus nodos'''\n",
        "  def recorrido_preorden(self, nodo)-> None:\n",
        "    if nodo is not None:\n",
        "      print(nodo.dato)\n",
        "      self.recorrido_preorden(nodo.izq)\n",
        "      self.recorrido_preorden(nodo.der)\n",
        "\n",
        "  ''' Recorre el arbol postorden e imprime cada uno de sus nodos'''\n",
        "  def recorrido_postorden(self, nodo)-> None:\n",
        "    if nodo is not None:\n",
        "      self.recorrido_postorden(nodo.izq)\n",
        "      self.recorrido_postorden(nodo.der)\n",
        "      print(nodo.dato)\n",
        "\n",
        "#ABB\n",
        "''' Clase arbol binario de busqueda, genera la estructura de un arbol binario\n",
        "    de busqueda asi como sus funciones.'''\n",
        "class ABB(AB):\n",
        "  ''' Consructor de arboles'''\n",
        "  def __init__(self, dato)-> None:\n",
        "    # llamamos al constructor de la clase padre con la palabra super\n",
        "    super(ABB, self).__init__(dato)\n",
        "    # y se agrega la variable ultimo agregado que sirve para clases posteriores\n",
        "    self.ultimo_agregado = self.raiz\n",
        "\n",
        "  ''' Busca un dato en el arbol y devuelve el nodo'''\n",
        "  def busqueda(self, nodo, dato)-> object:\n",
        "    # si la raiz es None o el dato esta contenido en el nodo,\n",
        "    # se devuelve el nodo.\n",
        "    if nodo is None or nodo.dato == dato:\n",
        "      return nodo\n",
        "    # si el dato es mayo entonces se busca del lado derecho\n",
        "    if nodo.dato < dato:\n",
        "      return self.busqueda(nodo.der, dato)\n",
        "    # si no, se busca en el lado izquierdo\n",
        "    else:\n",
        "      return self.busqueda(nodo.izq, dato)\n",
        "\n",
        "  ''' Inserta un elemento en el arbol a partir de un nodo'''\n",
        "  def insertar_nodo(self, nodo, dato)-> object:\n",
        "    # si el nodo es vacio ahi se crea el nuevo nodo\n",
        "    if nodo is None:\n",
        "      nuevo_nodo = Nodo(dato)\n",
        "      self.ultimo_agregado = nuevo_nodo\n",
        "      return nuevo_nodo\n",
        "    # si el dato es menor que su padre, se inserta en el lado izquierdo\n",
        "    if dato < nodo.dato:\n",
        "      nuevo_nodo = self.insertar_nodo(nodo.izq, dato)\n",
        "      nodo.izq = nuevo_nodo\n",
        "      nuevo_nodo.padre = nodo\n",
        "    # de no ser asi se inserta del lado derecho\n",
        "    else:\n",
        "      nuevo_nodo = self.insertar_nodo(nodo.der, dato)\n",
        "      nodo.der = nuevo_nodo\n",
        "      nuevo_nodo.padre = nodo\n",
        "    # nodo guarda toda la ruta de donde sera insertado el dato\n",
        "    # hasta caer en el caso base, es por eso que se devuelve    \n",
        "    return nodo\n",
        "  \n",
        "  ''' Inserta un nodo en el arbol, a partir de la raiz'''\n",
        "  def insertar(self, dato)-> object:\n",
        "    # si el dato a insertar no se encuentra en el ABB se inserta\n",
        "    if self.busqueda(self.raiz, dato) is None:\n",
        "      # Se inserta el dato desde la raiz\n",
        "      self.insertar_nodo(self.raiz, dato)\n",
        "\n",
        "  ''' Busca el minimo en el subarbol a partir de nodo, este metodo sirve\n",
        "      para poder eliminar nodos del arbol y mantener el orden'''\n",
        "  def minimo_en_subarbol(self, nodo)-> object:\n",
        "    # caso base en el que no hay minimo\n",
        "    if nodo is None:\n",
        "      return nodo\n",
        "    # caso base en el que el nodo es el minimo ya que no tiene hijo izq\n",
        "    if nodo.izq is None:\n",
        "      return nodo\n",
        "    # llamada recursiva para movernos al siguiente minimo\n",
        "    return self.minimo_en_subarbol(nodo.izq)\n",
        "\n",
        "  ''' Borra un nodo en el arbol, busca al nodo que contiene a dato\n",
        "      y en caso de existir lo borra, se pueden dar multiples casos'''\n",
        "  def borra_nodo(self, nodo, dato)-> object:\n",
        "    # Caso 0) revisamos si el arbol es vacio.\n",
        "    if self.raiz is None:\n",
        "      return None\n",
        "    # buscamos el nodo a borrar\n",
        "    nodo_a_borrar = self.busqueda(nodo, dato)\n",
        "    aux = nodo_a_borrar\n",
        "\n",
        "    # Caso 0.1) si el dato no se encontro en el arbol no se puede borrar\n",
        "    if nodo_a_borrar is None:\n",
        "      return None\n",
        "\n",
        "    # Caso 1) si el nodo a borrar es la RAIZ\n",
        "    if nodo_a_borrar is self.raiz:\n",
        "      # caso1.1) no tiene hijos, solo se borra la raiz\n",
        "      if nodo_a_borrar.izq is None and nodo_a_borrar.der is None:\n",
        "        self.raiz = None\n",
        "        self.ultimo_agregado = None\n",
        "        return None\n",
        "\n",
        "      # Caso1.2) solo se tiene hijo derecho, entonces se sube al hijo derecho\n",
        "      if nodo_a_borrar.izq is None and nodo_a_borrar.der is not None:\n",
        "        self.raiz = nodo_a_borrar.der\n",
        "        self.raiz.padre = None\n",
        "        return self.raiz\n",
        "\n",
        "      # Caso1.3) solo se tiene hijo izquierdo, entonces se sube al hijo izquierdo\n",
        "      if nodo_a_borrar.izq is not None and nodo_a_borrar.der is None:\n",
        "        self.raiz = nodo_a_borrar.izq\n",
        "        self.raiz.padre = None\n",
        "        return self.raiz\n",
        "\n",
        "      # Caso1.4) tiene ambos hijos\n",
        "      if nodo_a_borrar.izq is not None and nodo_a_borrar.der is not None:\n",
        "        # buscamos el minimo en el subarbol derecho (minimo de los mayores)\n",
        "        minimo = self.minimo_en_subarbol(nodo_a_borrar.der)\n",
        "        aux = minimo.padre\n",
        "        self.raiz.dato = minimo.dato\n",
        "        self.borra_nodo(minimo, minimo.dato)\n",
        "        return aux\n",
        "\n",
        "    else: #Caso 2)\n",
        "      # a partir de aqui se tienen 3 casos:\n",
        "      # si no tiene hijos simplemente se borra el nodo\n",
        "      # si tiene un solo hijo (ya sea izquierdo o derecho) se sube al unico hijo\n",
        "      # tiene ambos hijos\n",
        "\n",
        "      # es necesario identificar si el nodo a borrar es hijo izquierdo o derecho\n",
        "      es_izquierdo = False\n",
        "      if nodo_a_borrar.padre.izq == nodo_a_borrar:\n",
        "        es_izquierdo = True\n",
        "\n",
        "      # Caso2.1) no tiene hijos, solo se borra el nodo\n",
        "      if nodo_a_borrar.izq is None and nodo_a_borrar.der is None:\n",
        "        aux = nodo_a_borrar.padre\n",
        "        # revisamos si el nodo a borrar es un hijo izquiero o derecho\n",
        "        if es_izquierdo: # Caso2.1.1)\n",
        "          aux.izq = None\n",
        "        else: # Caso2.1.2)\n",
        "          aux.der = None\n",
        "        nodo_a_borrar = None\n",
        "        return aux\n",
        "      \n",
        "      # Caso2.2) solo se tiene hijo izquierdo, entonces se sube al hijo izquierdo\n",
        "      if nodo_a_borrar.izq is not None and nodo_a_borrar.der is None:\n",
        "        nodo_a_borrar.izq.padre = nodo_a_borrar.padre\n",
        "        aux = nodo_a_borrar.padre\n",
        "        # revisamos si el nodo a borrar es un hijo izquiero o derecho\n",
        "        if es_izquierdo: # Caso2.2.1)\n",
        "          nodo_a_borrar.padre.izq = nodo_a_borrar.izq\n",
        "        else: # Caso2.2.2)\n",
        "          nodo_a_borrar.padre.der = nodo_a_borrar.izq\n",
        "        return aux\n",
        "\n",
        "      # Caso2.3) solo se tiene hijo derecho, entonces se sube al hijo derecho\n",
        "      if nodo_a_borrar.izq is None and nodo_a_borrar.der is not None:\n",
        "        nodo_a_borrar.der.padre = nodo_a_borrar.padre\n",
        "        aux = nodo_a_borrar.padre\n",
        "        # revisamos si el nodo a borrar es un hijo izquiero o derecho\n",
        "        if es_izquierdo: # Caso2.3.1)\n",
        "          nodo_a_borrar.padre.izq = nodo_a_borrar.der\n",
        "        else: # Caso2.3.2)\n",
        "          nodo_a_borrar.padre.der = nodo_a_borrar.der\n",
        "        return aux\n",
        "\n",
        "      # Caso2.4) tiene ambos hijos\n",
        "      if nodo_a_borrar.izq is not None and nodo_a_borrar.der is not None:\n",
        "        # buscamos el minimo en el subarbol derecho\n",
        "        minimo = self.minimo_en_subarbol(nodo_a_borrar.der)\n",
        "        aux = minimo.padre\n",
        "        nodo_a_borrar.dato = minimo.dato\n",
        "        self.borra_nodo(minimo, minimo.dato)\n",
        "        return aux\n",
        "  \n",
        "  ''' Borra un nodo que contiene a dato a partir de la raiz'''\n",
        "  def borrar(self, dato)-> object:\n",
        "    self.borra_nodo(self.raiz, dato)\n",
        "    \n",
        "    ########contar hijos\n",
        "  def contar_hijos(self, dato)-> int:\n",
        "    nodo = self.busqueda(self.raiz,dato)\n",
        "    return nodo.cuantos_hijos()"
      ]
    },
    {
      "attachments": {},
      "cell_type": "markdown",
      "metadata": {
        "id": "tIgWeBhw0iL7"
      },
      "source": [
        "##1. Generando un ABB:\n",
        "(A partir de ahora usaremos el término \"ABB\" para referirnos a un Árbol Binario de Búsqueda) Una vez importadas las clases necesarias para crear un abb, construimos nuestro ABB e insertamos los valores requeridos."
      ]
    },
    {
      "cell_type": "code",
      "execution_count": null,
      "metadata": {
        "id": "iJT-eZEXchs-"
      },
      "outputs": [],
      "source": [
        "#Instanciamos/creamos un objeto \"abb\" en la clase \"ABB\" cuya raiz sera el primer valor que nos piden insertar.\n",
        "abb = ABB(15)\n",
        "#Insertamos cada uno de los elementos que se nos piden a constinuacion:\n",
        "abb.insertar(10)\n",
        "abb.insertar(20)\n",
        "abb.insertar(8)\n",
        "abb.insertar(14)\n",
        "abb.insertar(0)\n",
        "abb.insertar(35)\n",
        "abb.insertar(99)\n",
        "abb.insertar(30)\n",
        "\n"
      ]
    },
    {
      "attachments": {},
      "cell_type": "markdown",
      "metadata": {
        "id": "rMzQYdC82KeS"
      },
      "source": [
        "Podemos representar la generacion de nuestro arbol con el siguiente GIF: \n",
        "\n",
        "\n",
        "<center>\n",
        "<img src=\"https://user-images.githubusercontent.com/128133568/225857599-7898d137-9652-4f0c-8ada-f3d5d3f7fbb3.GIF\" width=\"480\">\n",
        "</center> \n"
      ]
    },
    {
      "attachments": {},
      "cell_type": "markdown",
      "metadata": {
        "id": "DSQP2cbJThly"
      },
      "source": [
        "##2. Buscando el valor 14.\n",
        "Para buscar el valor 14 desde la raíz, iniciamos comparando el elemento que buscamos(14) con la raíz del árbol, por como está definido nuestro árbol, notamos que nuestro valor, al ser menor que el dato de la raíz(15), por lo cual es conveniente buscar en el hijo izquierdo del 15, pues ahí se van los valores menores a 15.\n",
        "\n",
        "<center>\n",
        "<img src=\"https://user-images.githubusercontent.com/128133568/225886215-2d8d063a-d91b-4b6d-bebb-43f71a6c68a9.gif\" width=\"480\">\n",
        "</center>\n"
      ]
    },
    {
      "attachments": {},
      "cell_type": "markdown",
      "metadata": {
        "id": "C3_rMdwnYhCy"
      },
      "source": [
        "Ya en el subarbol izquierdo de la raíz, volvemos a comparar de la misma manera y notamos que 14>dato de este nodo(10), por lo cual buscaremos en el subarbol derecho al ser el subarbol de valor mayor a 10.\n",
        "\n",
        "<center>\n",
        "<img src=\"https://user-images.githubusercontent.com/128133568/225884232-82f3f0c3-49b7-41c7-b10c-d05359226eb3.gif\" width=\"480\">\n",
        "</center> "
      ]
    },
    {
      "attachments": {},
      "cell_type": "markdown",
      "metadata": {
        "id": "g8qv879bZY9Y"
      },
      "source": [
        "Finalmente comparamos el elemento que buscamos con el elemento en este nodo y notamos que 14=14, por lo tanto hemos llegado a lo que buscabamos e imprimimos el nodo.\n",
        "\n",
        "<center>\n",
        "<img src=\"https://user-images.githubusercontent.com/128133568/225884293-af5b4a49-5bf1-4a62-bc1e-7bba6a5298d9.gif\" width=\"480\">\n",
        "</center>"
      ]
    },
    {
      "cell_type": "code",
      "execution_count": null,
      "metadata": {
        "colab": {
          "base_uri": "https://localhost:8080/"
        },
        "id": "nEMvbryWfdZ0",
        "outputId": "2e1603c5-f011-49d1-f637-2576981614d6"
      },
      "outputs": [
        {
          "data": {
            "text/plain": [
              "<__main__.Nodo at 0x7f908b78abb0>"
            ]
          },
          "execution_count": 5,
          "metadata": {},
          "output_type": "execute_result"
        }
      ],
      "source": [
        "#CÓDIGO: Buscar el valor 14\n",
        "'''\n",
        "Iniciamos buscando en la raíz\n",
        "Al ser distinto el dato qe buscamos en la raíz (14<15), buscamos en el subarbol izquierdo\n",
        "Al no ser del mismo dato, notamos que 14>10 (el dato del otro nodo), así que buscamos en el subarbol derecho.\n",
        "Al ser 14==14, encontramos el dato y devolvemos el nodo.\n",
        "'''\n",
        "#Uso practico de la busqueda:\n",
        "abb.busqueda(abb.raiz,14)\n"
      ]
    },
    {
      "attachments": {},
      "cell_type": "markdown",
      "metadata": {
        "id": "rxGSULI4hdej"
      },
      "source": [
        "##3. Eliminando el valor 99.\n",
        "Ahora que comprendemos mejor la busqueda, se puede ser menos enfático par enfocarnos más en los demás procesos, en este caso, para eliminar un nodo basado en su dato, primero tenemos que buscar dentro del árbol el nodo a borrar usando el dato que contiene.\n",
        "Entonces iniciamos con las comparaciones:\n",
        "Dado que 99>15, buscamos en el subarbol derecho.\n",
        "Dado que 99>20, buscamos en el subarbol derecho.\n",
        "Se repite en el caso de 35, 99>35.\n",
        "Al pasar al siguiente subarbol(subarbol derecho del nodo con el dato 35), encontramos que 99==99.\n",
        "\n",
        "<center>\n",
        "<img src=\"https://user-images.githubusercontent.com/128133568/225894132-0c8d88da-f4b8-4f66-aaea-720aaf8d885f.gif\" width=\"480\">\n",
        "</center> \n"
      ]
    },
    {
      "attachments": {},
      "cell_type": "markdown",
      "metadata": {
        "id": "84mkHel3pwuQ"
      },
      "source": [
        "Con la información del nodo que contiene al dato 99 ahora si podemos eliminarlo pero antes tenemos que evaluar como es el nodo para seleccionar un caso para sustituirlo para así no romper el arbol. En este caso(2.1 según el código) simplemente lo eliminaremos, pues no tiene hijos.\n",
        "\n",
        "<center>\n",
        "<img src=\"https://user-images.githubusercontent.com/128133568/225897912-ca82d261-23a3-43de-8036-20308ffe7676.gif\" width=\"480\">\n",
        "</center> \n"
      ]
    },
    {
      "cell_type": "code",
      "execution_count": null,
      "metadata": {
        "colab": {
          "base_uri": "https://localhost:8080/"
        },
        "id": "Fqfw_dt_f10o",
        "outputId": "0313d511-e0a3-4a4c-bdd6-f05aecd8b22c"
      },
      "outputs": [
        {
          "name": "stdout",
          "output_type": "stream",
          "text": [
            "99\n",
            "None\n"
          ]
        }
      ],
      "source": [
        "#CÓDIGO: Eliminar el valor 99\n",
        "'''\n",
        "Primero debemos encontrar el nodo.\n",
        "Dado que 99>15, buscamos en el subarbol derecho.\n",
        "Dado que 99>20, buscamos en el subarbol derecho.\n",
        "Se repite en el caso de 35, 99>35.\n",
        "Al pasar al siguiente subarbol, encontramos que 99==99.\n",
        "Dado que el nodo, no tiene hijos, podemos borrarlo.\n",
        "'''\n",
        "print(abb.busqueda(abb.raiz,99))#Buscamos primero para ver que está el 99 ahí\n",
        "abb.borra_nodo(abb.raiz,99)\n",
        "print(abb.busqueda(abb.raiz,99))#Volvemos a buscarlo para confirmar su borrado"
      ]
    },
    {
      "attachments": {},
      "cell_type": "markdown",
      "metadata": {
        "id": "FDCcRzCEuZEw"
      },
      "source": [
        "## 4. Eliminando el valor 15.\n",
        "El proceso de borrado del 15 es similar al anterior, primero buscamos al 15 en el arbol iniciando por la raíz, al tener que este dato está contenido en la raíz (15=15), procederemos a borrar el nodo que contiene a la raíz, pero para mantener la estructura del arbol, tenemos programado el caso 1.4, el cual nos dice que si vamos a borrar la raíz con ambos hijos, lo mejor es sustituir el espacio de la raíz por el mínimo subarbol derecho.\n",
        "\n",
        "<center>\n",
        "<img src=\"https://user-images.githubusercontent.com/128133568/225903690-1f6c98de-775c-4304-9752-2f66a28a5722.gif\" width=\"480\">\n",
        "</center> "
      ]
    },
    {
      "cell_type": "code",
      "execution_count": null,
      "metadata": {
        "colab": {
          "base_uri": "https://localhost:8080/"
        },
        "id": "JxvKVh6zgk0X",
        "outputId": "6a71e545-8f91-4fee-c999-35b0eae13f4a"
      },
      "outputs": [
        {
          "name": "stdout",
          "output_type": "stream",
          "text": [
            "15\n",
            "None\n"
          ]
        }
      ],
      "source": [
        "#CODIGO: Eliminar el valor 15\n",
        "'''\n",
        "Primero, buscamos el 15, dado que 15==15 (es la raíz), lo encontramos, lo eliminamos y sustituimos por el valor mas pequeño del subarbol derecho.\n",
        "'''\n",
        "print(abb.busqueda(abb.raiz,15)) #Buscamos primero para ver que está el 15 ahí\n",
        "abb.borra_nodo(abb.raiz,15)\n",
        "print(abb.busqueda(abb.raiz,15)) #Volvemos a buscarlo para confirmar su borrado"
      ]
    },
    {
      "attachments": {},
      "cell_type": "markdown",
      "metadata": {
        "id": "d656bSdb0swF"
      },
      "source": [
        "## 5. Insertando 90.\n",
        "Este proceso es muy parecido al de busqueda, nuestro dato 90 se irá comparando con cada dato de los nodos y se insertará hasta que llegue a un espacio vacio.\n",
        "En partícular en este caso iniciamos en la raíz y sabemos que 90>20, por lo cual se insetará en el subárbol derecho, ahora se comparará con el elemento que se encuentre ahí, el cual es el 35, y como 90>35 se insertará nuevamente en el subarbol derecho, al no haber nada ahí, 90 tomará ese espacio.\n",
        "\n",
        "<center>\n",
        "<img src=\"https://user-images.githubusercontent.com/128133568/225912726-2d489f47-7643-46c8-ae31-b3fd700d6a40.gif\" width=\"480\">\n",
        "</center> \n"
      ]
    },
    {
      "cell_type": "code",
      "execution_count": null,
      "metadata": {
        "colab": {
          "base_uri": "https://localhost:8080/"
        },
        "id": "Jf0TVNCTgvEm",
        "outputId": "fe51b956-3fe6-42bc-fb5f-1bffd07b9fd7"
      },
      "outputs": [
        {
          "name": "stdout",
          "output_type": "stream",
          "text": [
            "None\n",
            "90\n"
          ]
        }
      ],
      "source": [
        "#CODIGO: Insertar 90\n",
        "\"\"\"Primero debemos comparar con la raíz,\n",
        "Dado que 90>20, insertamos en el subarbol derecho.\n",
        "Dado que 90>35, insertamos en el subarbol derecho.\n",
        "Dado que no hay nada aquí, mantiene esta posición.\"\"\"\n",
        "print(abb.busqueda(abb.raiz,90)) #Buscamos el 90 para ver que no esta en el arbol\n",
        "abb.insertar(90)\n",
        "print(abb.busqueda(abb.raiz,90)) #Volvemos a buscarlo para confirmar que ahora existe\n",
        "\n"
      ]
    },
    {
      "attachments": {},
      "cell_type": "markdown",
      "metadata": {
        "id": "UcYdnMRi-s98"
      },
      "source": [
        "## 6. Recorrido en Inorder, Preorder, Posorder "
      ]
    },
    {
      "attachments": {},
      "cell_type": "markdown",
      "metadata": {
        "id": "wHCWwLOd0GED"
      },
      "source": [
        "###Inorder:\n",
        "La forma de visitar los nodos en forma \"Inorder\" es: Primero el hijo izquierdo, luego el nodo y finalmente su hijo derecho. En este caso, nos deja la lista [0, 8, 10, 14, 20, 30, 35, 90]\n",
        "<center>\n",
        "<img src=\"https://user-images.githubusercontent.com/128133568/226083093-8037408f-a77f-43ea-8e74-b434693cfe30.gif\" width=\"480\">\n",
        "</center> \n"
      ]
    },
    {
      "attachments": {},
      "cell_type": "markdown",
      "metadata": {
        "id": "aEk0ocZO0bIk"
      },
      "source": [
        "###Preorder:\n",
        "La forma de visitar los nodos en forma \"Preorder\" es: Primero el nodo, luego su hijo izquierdo, y finalmente su hijo derecho. En este caso, nos deja la lista [20, 10, 8, 0, 14, 35, 30, 90]\n",
        "<center>\n",
        "<img src=\"https://user-images.githubusercontent.com/128133568/226083120-26f4953e-7ffb-4247-9dba-4a7c5ba6007b.gif\" width=\"480\">\n",
        "</center> \n"
      ]
    },
    {
      "attachments": {},
      "cell_type": "markdown",
      "metadata": {
        "id": "EnC0y27n0bi0"
      },
      "source": [
        "###Postorder:\n",
        "La forma de visitar los nodos en forma \"Postorder\" es: Primero su hijo izquierdo, luego el hijo derecho y finalmente el nodo del cual son hijos. En este caso, nos deja la lista [0,8,14,10,30,90,35,20]\n",
        "<center>\n",
        "<img src=\"https://user-images.githubusercontent.com/128133568/226083111-0ab66fb2-2405-481c-87fb-0310e2dbcbb5.gif\" width=\"480\">\n",
        "</center> \n"
      ]
    },
    {
      "attachments": {},
      "cell_type": "markdown",
      "metadata": {
        "id": "segCPuWoBPLy"
      },
      "source": [
        "## 7. Comprobación "
      ]
    },
    {
      "attachments": {},
      "cell_type": "markdown",
      "metadata": {
        "id": "kUt50jHYvDKd"
      },
      "source": [
        "**INORDEN**\n",
        "Para recorrer un árbol binario no vacío en inorden (simétrico), hay que realizar las siguientes operaciones recursivamente en cada nodo:\n",
        "\n",
        "> Atraviese el sub-árbol izquierdo\n",
        "\n",
        "> Visite la raíz\n",
        "\n",
        "> Atraviese el sub-árbol derecho"
      ]
    },
    {
      "cell_type": "code",
      "execution_count": null,
      "metadata": {
        "colab": {
          "base_uri": "https://localhost:8080/"
        },
        "id": "2x6UoY5gpDiF",
        "outputId": "3fee34d4-27b2-456e-ddbb-96182ab0ad29"
      },
      "outputs": [
        {
          "name": "stdout",
          "output_type": "stream",
          "text": [
            "0\n",
            "8\n",
            "10\n",
            "14\n",
            "20\n",
            "30\n",
            "35\n",
            "90\n"
          ]
        }
      ],
      "source": [
        "#CODIGO: Inorden\n",
        "abb.recorrido_enorden(abb.raiz)"
      ]
    },
    {
      "attachments": {},
      "cell_type": "markdown",
      "metadata": {
        "id": "kVEFFmH2vc77"
      },
      "source": [
        "**PREORDEN**\n",
        "Para recorrer un árbol binario no vacío en preorden, hay que realizar las siguientes operaciones recursivamente en cada nodo, comenzando con el nodo de raíz:\n",
        "\n",
        "> Visite la raíz\n",
        "\n",
        "> Atraviese el sub-árbol izquierdo\n",
        "\n",
        "> Atraviese el sub-árbol derecho\n"
      ]
    },
    {
      "cell_type": "code",
      "execution_count": null,
      "metadata": {
        "colab": {
          "base_uri": "https://localhost:8080/"
        },
        "id": "5Q2bdf1CpeY2",
        "outputId": "4b67cb08-59af-4abd-c932-1be5a567064d"
      },
      "outputs": [
        {
          "name": "stdout",
          "output_type": "stream",
          "text": [
            "20\n",
            "10\n",
            "8\n",
            "0\n",
            "14\n",
            "35\n",
            "30\n",
            "90\n"
          ]
        }
      ],
      "source": [
        "#CODIGO: Preorden\n",
        "abb.recorrido_preorden(abb.raiz)"
      ]
    },
    {
      "attachments": {},
      "cell_type": "markdown",
      "metadata": {
        "id": "akI4kZWEwDBM"
      },
      "source": [
        "**POSTORDEN**\n",
        "Para recorrer un árbol binario no vacío en postorden, hay que realizar las siguientes operaciones recursivamente en cada nodo:\n",
        "\n",
        "> Atraviese el sub-árbol izquierdo\n",
        "\n",
        "> Atraviese el sub-árbol derecho\n",
        "\n",
        "> Visite la raíz"
      ]
    },
    {
      "cell_type": "code",
      "execution_count": null,
      "metadata": {
        "colab": {
          "base_uri": "https://localhost:8080/"
        },
        "id": "A5Wfazwhpfw-",
        "outputId": "d44a3ab1-009c-4b64-9d5a-bda16682ed3d"
      },
      "outputs": [
        {
          "name": "stdout",
          "output_type": "stream",
          "text": [
            "0\n",
            "8\n",
            "14\n",
            "10\n",
            "30\n",
            "90\n",
            "35\n",
            "20\n"
          ]
        }
      ],
      "source": [
        "#CODIGO: postorden\n",
        "abb.recorrido_postorden(abb.raiz)"
      ]
    },
    {
      "attachments": {},
      "cell_type": "markdown",
      "metadata": {
        "id": "323xIyMt2wws"
      },
      "source": [
        "Podemos concluir que nuestra representación gráfica del árbol binario de búsqueda coincide con nuestro código."
      ]
    },
    {
      "attachments": {},
      "cell_type": "markdown",
      "metadata": {
        "id": "d6to8RDYBPb3"
      },
      "source": [
        "## 8. Análisis del ABB\n",
        "-Peor caso: Se conoce como el peor caso cuando un Arbol de Busqueda Binaria se encuentra \"Degenerado\", lo cual ocurre cuando todos sus valores forman una linea recta de la siguiente manera:\n",
        "\n",
        "<center>\n",
        "<img src=\"https://user-images.githubusercontent.com/128133568/225930562-e3da490f-7abf-4759-a032-ec6e2b2c8326.jpg\" width=\"480\">\n",
        "</center> \n",
        "\n",
        "Siendo para este caso(el caso donde se degenera hacia el lado izquierdo es análogo a este): $$a_{i-1}< a_{i}\\leq a_{n}$$\n",
        "\n",
        "##Busqueda:\n",
        "Debido a la falta de descarte de casos innecesarios, la busqueda se comportará de manera secuencial comparando n veces lo que buscamos con cada elemento del árbol, al igual que la Busqueda Secuencial(valga la redundancia).\n",
        "Suponiendo que buscamos el último elemento $a_{n}$ que sería el peor caso en un arbol degenerado, entonces para llegar a la altura del último elemento, se realizarían n operaciones, lo cual es igual que decir que:\n",
        "\n",
        "$$T(n) \\in O(n)$$\n",
        "\n",
        "##Insertar nodo:\n",
        "Como ya vimos antes, la forma de insertar un nodo es muy parecida a la de buscarlo, pues primero debemos hacer comparaciones al igual que en la búsqueda. Sea esto en un árbol degenerado, suponemos el peor caso cuando el nodo a insertar cumple con la propiedad para ser insertado hasta el final del árbol(quedando como hijo de $a_{n}$), por lo que nuestro nodo sería comparado n veces con cada elemento, entonces se realizarían n operaciones para la búsqueda y un número poco significativo operaciones para colocar el nodo en el lugar adecuado.\n",
        "\n",
        "$$\\therefore T(n) \\in O(n)$$\n",
        "\n",
        "##Borrar nodo:\n",
        "Éste funciona muy parecido al de búsqueda de nodos, pues antes de borrar el nodo, tenemos que encontrarlo con su dato, por lo cual ya sabemos, tenemos que realizar n operaciones en el peor caso, luego de eso tenemos que realizar un número poco significativo de operaciones para determinar el caso del nodo a eliminar, luego sustituirlo o eliminarlo directamente.\n",
        "\n",
        "$$\\therefore T(n) \\in O(n)$$\n",
        "\n",
        "##Borrar árbol:\n",
        "Para borrar el árbol simplemente necesitamos borrar el nodo raíz, por lo cual las operaciones no están definidas por el número de elementos que tenga el árbol, al ser un número determinado de operaciones para borrar la raíz, podemos decir que:\n",
        "\n",
        " $$ T(n) \\in O(1)$$"
      ]
    },
    {
      "attachments": {},
      "cell_type": "markdown",
      "metadata": {
        "id": "TOZ9aG7cHf41"
      },
      "source": [
        "#Arboles Binarios Balanceados"
      ]
    },
    {
      "cell_type": "code",
      "execution_count": null,
      "metadata": {
        "id": "yRAsSRknjIQo"
      },
      "outputs": [],
      "source": [
        "#Para generar el AAVL requerido necesitaremos importar la clase AVL vista en clase.\n",
        "class ArbolAVL(ABB):\n",
        "  #Constructor que hace uso del constructor de la clase padre (ABB)\n",
        "  def __init__(self, dato):\n",
        "    super(ArbolAVL, self).__init__(dato)\n",
        "      \n",
        "  #Devuelve el ultimo nodo agregado para balanceo en caso necesario\n",
        "  def ultimo(self):\n",
        "    return self.ultimo_agregado\n",
        "\n",
        "  #Determina si un nodo esta balanceado\n",
        "  def balanceado(self, nodo):\n",
        "    return abs(self.altura(nodo.der)-self.altura(nodo.izq)) <= 1\n",
        "\n",
        "  '''\n",
        "  2 = el subarbol esta muy cargado a la derecha\n",
        "  1 = el subarbol esta cargado a la derecha\n",
        "  0 = no hace falta rotar\n",
        "  -1 = el subarbol esta cargado a la derecha\n",
        "  -2 = el subarbol esta muy cargado a la izquierda\n",
        "  '''\n",
        "  def factor_equilibrio(self, nodo):\n",
        "      if nodo is None:\n",
        "          return 0\n",
        "      else:\n",
        "          return self.altura(nodo.der)-self.altura(nodo.izq)\n",
        "  \n",
        "  #Balancea el arbol, a partir de un nodo\n",
        "  def balancea(self, nodo):\n",
        "    #caso base\n",
        "    if nodo is None:\n",
        "      return\n",
        "    if not self.balanceado(nodo):\n",
        "      factorNodo = self.factor_equilibrio(nodo)\n",
        "      factorIz = self.factor_equilibrio(nodo.izq)\n",
        "      factorDer = self.factor_equilibrio(nodo.der)\n",
        "      #Si el nodo esta desbalanceado se tendra uno de 4 casos\n",
        "      #mismos que se solucionan con alguna de las 4 rotaciones\n",
        "      if factorNodo == -2 and (factorIz == -1 or factorIz == 0): #probado\n",
        "        self.rotacionSimpleDerecha(nodo)\n",
        "      if factorNodo == 2 and (factorDer == 1 or factorDer == 0): #probado\n",
        "        self.rotacionSimpleIzquierda(nodo)\n",
        "      if factorNodo == -2 and factorIz == 1: #probado\n",
        "        self.rotacionIzquierdaDerecha(nodo)\n",
        "      if factorNodo == 2 and factorDer == -1: #probado\n",
        "        self.rotacionDerechaIzquierda(nodo) \n",
        "    #llamada recursiva para balancear toda la ruta. Desde donde se inserto\n",
        "    #el nodo, hasta la raiz        \n",
        "    self.balancea(nodo.padre)        \n",
        "  \n",
        "  #Rota el nodo a la derecha\n",
        "  def rotacionSimpleDerecha(self, nodo):\n",
        "    if nodo is not None:\n",
        "      if nodo is self.raiz:\n",
        "        #actualizamos la raiz\n",
        "        self.raiz = nodo.izq\n",
        "        self.raiz.padre = None\n",
        "        # si el nodo.izq tiene hijo derecho se pasa como izq de nodo\n",
        "        if nodo.izq.der is not None:\n",
        "          nodo.izq.der.padre = nodo\n",
        "          nodo.izq = nodo.izq.der\n",
        "        else:\n",
        "          nodo.izq = None\n",
        "        self.raiz.der = nodo\n",
        "        nodo.padre = self.raiz\n",
        "      else:\n",
        "        nuevaraiz = nodo.izq\n",
        "        #actualizamos la nueva raiz\n",
        "        if nodo.esIzq():\n",
        "          nodo.padre.izq = nuevaraiz\n",
        "        else:\n",
        "          nodo.padre.der = nuevaraiz\n",
        "        nuevaraiz.padre = nodo.padre\n",
        "        # si el nodo.izq tiene hijo derecho se pasa como izq de nodo\n",
        "        if nuevaraiz.der is not None:\n",
        "          nuevaraiz.der.padre = nodo\n",
        "          nodo.izq = nuevaraiz.der\n",
        "        else:\n",
        "          nodo.izq = None\n",
        "        nuevaraiz.der = nodo\n",
        "        nodo.padre = nuevaraiz\n",
        "    \n",
        "  #Rota el nodo a la izquierda            \n",
        "  def rotacionSimpleIzquierda(self, nodo):\n",
        "    if nodo is not None:\n",
        "      if nodo is self.raiz:\n",
        "        #actualizamos la raiz\n",
        "        self.raiz = nodo.der\n",
        "        self.raiz.padre = None\n",
        "        # si el nodo.der tiene hijo izquierdo se pasa como der de nodo\n",
        "        if nodo.der.izq is not None:\n",
        "          nodo.der.izq.padre = nodo\n",
        "          nodo.der = nodo.der.izq\n",
        "        else:\n",
        "          nodo.der = None\n",
        "        self.raiz.izq = nodo\n",
        "        nodo.padre = self.raiz\n",
        "      else:\n",
        "        nuevaraiz = nodo.der\n",
        "        #actualizamos la nueva raiz\n",
        "        if nodo.esIzq():\n",
        "          nodo.padre.izq = nuevaraiz\n",
        "        else:\n",
        "          nodo.padre.der = nuevaraiz\n",
        "        nuevaraiz.padre = nodo.padre\n",
        "        # si el nodo.der tiene hijo izquierdo se pasa como der de nodo\n",
        "        if nuevaraiz.izq is not None:\n",
        "          nuevaraiz.izq.padre = nodo\n",
        "          nodo.der = nuevaraiz.izq\n",
        "        else:\n",
        "          nodo.der = None\n",
        "        nuevaraiz.izq = nodo\n",
        "        nodo.padre = nuevaraiz\n",
        "              \n",
        "  #Define la doble rotacion a la derecha, a partir de un nodo            \n",
        "  def rotacionIzquierdaDerecha(self, nodo):\n",
        "    self.rotacionSimpleIzquierda(nodo.izq)\n",
        "    self.rotacionSimpleDerecha(nodo)\n",
        "  \n",
        "  #Define la doble rotacion a la izquierda, a partir de un nodo     \n",
        "  def rotacionDerechaIzquierda(self, nodo):\n",
        "    self.rotacionSimpleDerecha(nodo.der)\n",
        "    self.rotacionSimpleIzquierda(nodo)\n",
        "\n",
        "  #Inserta un nodo en el arbol y lo balancea, si es que se desbalanceo\n",
        "  def insertar(self, dato):\n",
        "    #Se inserta el dato usando el metodo de la clase padre\n",
        "    super(ArbolAVL, self).insertar(dato)\n",
        "    #Identificamos donde se inserto el dato\n",
        "    ultimo_nodo_insertado = self.ultimo()\n",
        "      \n",
        "    #Se rebalancean los nodos que hayan quedado desbalanceados\n",
        "    #Y se empieza desde el padre, por que nodo por def no pudo\n",
        "    #haber quedado desbalanceado\n",
        "    self.balancea(ultimo_nodo_insertado.padre)\n",
        "      \n",
        "  #Borra un nodo en el arbol y lo balancea, si es que se desbalanceo\n",
        "  def borra(self, dato):\n",
        "    #Se borra el nodo usando el metodo de la clase padre\n",
        "    borradopadre = self.borra_nodo(self.raiz, dato)\n",
        "    \n",
        "    #Se rebalancean los nodos que hayan quedado desbalanceados\n",
        "    #Y se empieza desde el padre, por que nodo por def, no pudo\n",
        "    #haber quedado desbalanceado\n",
        "    self.balancea(borradopadre)"
      ]
    },
    {
      "attachments": {},
      "cell_type": "markdown",
      "metadata": {
        "id": "fHEfgngWXwv8"
      },
      "source": [
        "## 1. Generando nuestro AAVL\n",
        "\n",
        "(A partir de ahora usaremos el término \"AVL\" para referirnos a un Árbol Binario Balanceado) Una vez importadas las clases necesarias para crear un avl, construimos nuestro AVL e insertamos los valores requeridos."
      ]
    },
    {
      "cell_type": "code",
      "execution_count": null,
      "metadata": {
        "id": "aNb7ajp9jJZ0"
      },
      "outputs": [],
      "source": [
        "#Instanciamos/creamos un objeto \"avl\" en la clase \"ArbolAVL\" cuya raiz INICIAL sera el primer valor que nos piden insertar.\n",
        "avl = ArbolAVL(15)\n",
        "#Insertamos cada uno de los elementos que se nos piden a constinuacion:\n",
        "avl.insertar(10)\n",
        "avl.insertar(5)\n",
        "avl.insertar(16)\n",
        "avl.insertar(17)\n",
        "avl.insertar(9)\n",
        "avl.insertar(20)"
      ]
    },
    {
      "attachments": {},
      "cell_type": "markdown",
      "metadata": {
        "id": "QXgEarndXYbc"
      },
      "source": [
        "La generación de nuestro AVL luciría algo así:\n",
        "\n",
        "<center>\n",
        "<img src=\"https://user-images.githubusercontent.com/128133568/226076283-268e62df-d7ac-4d3e-8835-dd076f6b06dd.gif\" width=\"480\">\n",
        "</center> \n"
      ]
    },
    {
      "attachments": {},
      "cell_type": "markdown",
      "metadata": {
        "id": "Z9-oJvGQXunz"
      },
      "source": [
        "## 2. Eliminando 9\n",
        "\n",
        "Para eliminar 9, comenzamos en el pivote, dado que 9 < 10 entonces buscamos en el subarbol izquierdo.\n",
        "Dado que 9 > 5 buscamos en el subárbol derecho.\n",
        "Encontramos 9 == 9, lo borramos.\n",
        "Se borra directamente, dado que no tiene hijos.\n",
        "Calculamos nuestro nueva raíz, hacemos una rotación simple derecha sobre 10.\n",
        "16, es nuestro nueva raíz.\n",
        "\n",
        "<center>\n",
        "<img src=\"https://user-images.githubusercontent.com/128133568/226080592-aa4b0e67-efca-4206-87b1-aad9bc3cbde4.gif\" width=\"480\">\n",
        "</center> \n"
      ]
    },
    {
      "cell_type": "code",
      "execution_count": null,
      "metadata": {
        "colab": {
          "base_uri": "https://localhost:8080/"
        },
        "id": "8gOsCNcFX78b",
        "outputId": "fa35ede6-6f01-4ec0-e1bb-7808f225725e"
      },
      "outputs": [
        {
          "name": "stdout",
          "output_type": "stream",
          "text": [
            "9\n",
            "None\n"
          ]
        }
      ],
      "source": [
        "#CODIGO: Eliminar el valor 9\n",
        "print(avl.busqueda(avl.raiz,9)) #Buscamos primero para ver que está el 9 ahí\n",
        "avl.borra(9)\n",
        "print(abb.busqueda(avl.raiz,9)) #Volvemos a buscarlo para confirmar su borrado\n"
      ]
    },
    {
      "attachments": {},
      "cell_type": "markdown",
      "metadata": {
        "id": "qZigrA5Lb4pk"
      },
      "source": [
        "## 3. Eliminando 16\n",
        "\n",
        "16 == 16 encontramos el valor, lo eliminamos.\n",
        "Dado que 16, tiene 2 hijos, debemos encontrar al mayor.\n",
        "15 < 17, enconces aplicamos rotación simple sobre 15.\n",
        "Ahora 17 queda en el lugar que fue de 16.\n",
        "\n",
        "<center>\n",
        "<img src=\"https://user-images.githubusercontent.com/128133568/226087479-d800dac3-14fb-4de3-b7a5-3566140eb9dd.jpg\" width=\"480\">\n",
        "</center> \n"
      ]
    },
    {
      "cell_type": "code",
      "execution_count": null,
      "metadata": {
        "colab": {
          "base_uri": "https://localhost:8080/"
        },
        "id": "qh14FQRIcOtQ",
        "outputId": "42cdd6ea-e45c-4345-cbac-e02bab5cbc5f"
      },
      "outputs": [
        {
          "name": "stdout",
          "output_type": "stream",
          "text": [
            "16\n",
            "None\n"
          ]
        }
      ],
      "source": [
        "#CODIGO: Eliminar el valor 16\n",
        "print(avl.busqueda(avl.raiz,16)) #Buscamos primero para ver que está el 16 ahí\n",
        "avl.borra(16)\n",
        "print(abb.busqueda(avl.raiz,16)) #Volvemos a buscarlo para confirmar su borrado"
      ]
    },
    {
      "attachments": {},
      "cell_type": "markdown",
      "metadata": {
        "id": "qgy-GgQ6dPvi"
      },
      "source": [
        "## 4. Insertando 1\n",
        "\n",
        "Al ser 1 < 10, buscamos en el subarbol izquierdo.\n",
        "Dado que 1<5,  no hay un subárbol izquierdo en el cual buscar \n",
        "Se inserta el nuevo nodo 1 como subarbol de 5.\n",
        "\n",
        "<center>\n",
        "<img src=\"https://user-images.githubusercontent.com/128133568/226087486-568e39eb-fb79-4dcb-8bc7-a9fb9da3ae4b.jpg\" width=\"480\">\n",
        "</center> \n"
      ]
    },
    {
      "cell_type": "code",
      "execution_count": null,
      "metadata": {
        "colab": {
          "base_uri": "https://localhost:8080/"
        },
        "id": "P3zQi2HJdZFx",
        "outputId": "f0acc36b-e6a5-4e34-a5b6-beba299756b8"
      },
      "outputs": [
        {
          "name": "stdout",
          "output_type": "stream",
          "text": [
            "None\n",
            "1\n"
          ]
        }
      ],
      "source": [
        "#CODOGO: Insertar el valor 1\n",
        "print(avl.busqueda(avl.raiz,1)) #Buscamos el 1 para ver que no esta en el arbol\n",
        "avl.insertar(1)\n",
        "print(avl.busqueda(avl.raiz,1)) #Volvemos a buscarlo para confirmar que ahora existe"
      ]
    },
    {
      "attachments": {},
      "cell_type": "markdown",
      "metadata": {
        "id": "sz9FmNs2ws47"
      },
      "source": [
        "## 5. Recorrido en Inorden, Preorden, Posorden "
      ]
    },
    {
      "attachments": {},
      "cell_type": "markdown",
      "metadata": {
        "id": "5sq67b_QyjWf"
      },
      "source": [
        "**INORDEN**\n",
        "\n",
        "Como ya vimos anteriormente para visitar el arbol con inorder iniciamos por el subarbol izquierdo, de la punta a la raíz y luego recorremos de la raíz a la punta del subárbol derecho.\n",
        "\n",
        "En este caso nuestro arbol binario balanceado queda:\n",
        "\n",
        "[1, 5, 10, 15, 17, 20]"
      ]
    },
    {
      "cell_type": "code",
      "execution_count": null,
      "metadata": {
        "colab": {
          "base_uri": "https://localhost:8080/"
        },
        "id": "KVvIE-FzyjWg",
        "outputId": "37a74078-fe38-4803-9200-033ce3baeda2"
      },
      "outputs": [
        {
          "name": "stdout",
          "output_type": "stream",
          "text": [
            "1\n",
            "5\n",
            "10\n",
            "15\n",
            "17\n",
            "20\n"
          ]
        }
      ],
      "source": [
        "#CODIGO: Inorden\n",
        "avl.recorrido_enorden(avl.raiz)"
      ]
    },
    {
      "attachments": {},
      "cell_type": "markdown",
      "metadata": {
        "id": "CWLgcrEByjWg"
      },
      "source": [
        "**PREORDEN**\n",
        "\n",
        "Como antes visto para utilizar preorden debemos visitar la raíz, pasar el subárbol izquierdo y luego el subárbol derecho.\n",
        "\n",
        "Hecho esto, nuestro árbol queda:\n",
        "\n",
        "[10, 5, 1, 17, 15, 20]\n"
      ]
    },
    {
      "cell_type": "code",
      "execution_count": null,
      "metadata": {
        "colab": {
          "base_uri": "https://localhost:8080/"
        },
        "id": "UbvwPO8iyjWg",
        "outputId": "758624bc-4ff0-4a9e-b0ee-713439c9d58b"
      },
      "outputs": [
        {
          "name": "stdout",
          "output_type": "stream",
          "text": [
            "10\n",
            "5\n",
            "1\n",
            "17\n",
            "15\n",
            "20\n"
          ]
        }
      ],
      "source": [
        "#CODIGO: Preorden\n",
        "avl.recorrido_preorden(avl.raiz)"
      ]
    },
    {
      "attachments": {},
      "cell_type": "markdown",
      "metadata": {
        "id": "pcoiBCZmyjWg"
      },
      "source": [
        "**POSTORDEN**\n",
        "\n",
        "Como ya sabemos para postorden debemos atravesar el subárbol izquierdo, luego el derecho y la raíz.\n",
        "\n",
        "Nuestro arbol binario balanceado queda:\n",
        "\n",
        "[1, 5, 15, 20, 17, 10]"
      ]
    },
    {
      "cell_type": "code",
      "execution_count": null,
      "metadata": {
        "colab": {
          "base_uri": "https://localhost:8080/"
        },
        "id": "KFT63KGcyjWh",
        "outputId": "5b4a30d2-3734-49a1-be7e-2463453fbb3f"
      },
      "outputs": [
        {
          "name": "stdout",
          "output_type": "stream",
          "text": [
            "1\n",
            "5\n",
            "15\n",
            "20\n",
            "17\n",
            "10\n"
          ]
        }
      ],
      "source": [
        "#CODIGO: postorden\n",
        "avl.recorrido_postorden(avl.raiz)"
      ]
    },
    {
      "attachments": {},
      "cell_type": "markdown",
      "metadata": {
        "id": "xsLlWurNIfQC"
      },
      "source": [
        "## 6. Análisis del AVL\n",
        "\n",
        "Llamemos n*min*(h) a la mínima cantidad de nodos de un arbol binario balanceado de altura h. Es claro que n*min*(1) = 1 y n*min*(2) = 2.\n",
        "Un arbol binario balanceado en altura de n nodos y altura h > 2 debe tener dossubarboles, izquierdo y derecho. De la definición de balanceo en altura se deduce que estos dos tambien son balanceados en altura. Como T tiene altura h, entonces uno de ellos tiene altura h − 1, y el otro altura h − 1 o h − 2, puesto que la diferencia entre las alturas de los mismos es a lo sumo 1.\n",
        "\n",
        "Luego,\n",
        "n ≥ 1 + n*min*(h − 1) + mín(n*min*(h − 1), n*min*(h − 2))\n",
        "Como T es arbitrario de altura h, resulta que n*min*(h) ≥ 1+n*min*(h−1)+mín(n*min*(h−\n",
        "1), n*min*(h−2)). De esta desigualdad, mas los casos base, se sigue inmediatamente que\n",
        "n*min*(h) > n*min*(h − 1) para todo h > 1, con lo cual la expresion anterior se simplifica a\n",
        "n*min*(h) ≥ 1 + n*min*(h − 1) + n*min*(h − 2)\n",
        "\n",
        "Para probar la igualdad, basta ver que hay algun arbol binario balanceado en altura, de altura h, con cantidad de nodos 1+n*min*(h−1)+n*min*(h−2). Este arbol se puede ´\n",
        "construir facilmente en forma inductiva, razonando igual que antes. En definitiva,\n",
        "n*min*(h) = 1 + n*min*(h − 1) + n*min*(h − 2)\n",
        "Observemos que esta recurrencia tiene un parecido con la sucesion de Fibonacci.\n",
        "\n",
        "Finalmente, tomemos un arbol binario balanceado en altura de n nodos y altura h, y veamos que h = O(lg n). Se tiene n ≥ nmin(h) = Ω(φ^h\n",
        "), con lo cual n = Ω(φ^h).\n",
        "Pero entonces h = O(logφ n) = O(lg n).\n",
        "\n",
        "Por lo visto en la demostración podemos decir que, no hay peor caso para este tipo de arbol y el orden de complejidad para eliminar árbol, buscar, insertar y borrar nodo siempre es el mismo.\n",
        "\n"
      ]
    },
    {
      "attachments": {},
      "cell_type": "markdown",
      "metadata": {
        "id": "nw2KI6XXjLXP"
      },
      "source": [
        "# Tablas hash\n"
      ]
    },
    {
      "cell_type": "code",
      "execution_count": null,
      "metadata": {
        "colab": {
          "base_uri": "https://localhost:8080/"
        },
        "id": "MVcvJjUDjJ2F",
        "outputId": "24dea55c-a6da-4808-9cac-6e1943f69144"
      },
      "outputs": [
        {
          "name": "stdout",
          "output_type": "stream",
          "text": [
            "--2023-03-18 00:51:54--  https://raw.githubusercontent.com/jugernaut/ManejoDatos/desarrollo/utils/inteligencia.txt\n",
            "Resolving raw.githubusercontent.com (raw.githubusercontent.com)... 185.199.108.133, 185.199.109.133, 185.199.110.133, ...\n",
            "Connecting to raw.githubusercontent.com (raw.githubusercontent.com)|185.199.108.133|:443... connected.\n",
            "HTTP request sent, awaiting response... 200 OK\n",
            "Length: 3439 (3.4K) [text/plain]\n",
            "Saving to: ‘inteligencia.txt’\n",
            "\n",
            "\rinteligencia.txt      0%[                    ]       0  --.-KB/s               \rinteligencia.txt    100%[===================>]   3.36K  --.-KB/s    in 0s      \n",
            "\n",
            "2023-03-18 00:51:54 (27.8 MB/s) - ‘inteligencia.txt’ saved [3439/3439]\n",
            "\n"
          ]
        }
      ],
      "source": [
        "#Obtenemos el archivo requerido para esta parte.\n",
        "!wget https://raw.githubusercontent.com/jugernaut/ManejoDatos/desarrollo/utils/inteligencia.txt"
      ]
    },
    {
      "cell_type": "code",
      "execution_count": null,
      "metadata": {
        "colab": {
          "base_uri": "https://localhost:8080/"
        },
        "id": "4hXzpPLquv08",
        "outputId": "55f2a572-8974-42a3-d751-084d93659f66"
      },
      "outputs": [
        {
          "data": {
            "text/plain": [
              "{'Ahora': 1,\n",
              " 'que': 17,\n",
              " 'ya': 1,\n",
              " 'conoce': 1,\n",
              " 'la': 14,\n",
              " 'definición': 1,\n",
              " 'de': 51,\n",
              " 'IA': 2,\n",
              " 'y': 12,\n",
              " 'más': 2,\n",
              " 'su': 4,\n",
              " 'historia,': 1,\n",
              " 'mejor': 1,\n",
              " 'forma': 1,\n",
              " 'profundizar': 1,\n",
              " 'en': 15,\n",
              " 'el': 9,\n",
              " 'tema': 1,\n",
              " 'es': 5,\n",
              " 'conocer': 1,\n",
              " 'las': 5,\n",
              " 'principales': 1,\n",
              " 'técnicas': 1,\n",
              " 'IA,': 1,\n",
              " 'específicamente,': 1,\n",
              " 'los': 10,\n",
              " 'casos': 2,\n",
              " 'Inteligencia': 1,\n",
              " 'artificial': 1,\n",
              " 'se': 9,\n",
              " 'utiliza': 2,\n",
              " 'para': 6,\n",
              " 'negocios.': 1,\n",
              " 'Aprendizaje': 10,\n",
              " 'automático': 6,\n",
              " 'Generalmente,': 1,\n",
              " 'concepto': 3,\n",
              " 'confunde': 1,\n",
              " 'con': 3,\n",
              " '“IA': 1,\n",
              " 'débil”.': 1,\n",
              " 'Es': 3,\n",
              " 'este': 1,\n",
              " 'campo': 1,\n",
              " 'donde': 1,\n",
              " 'avances': 1,\n",
              " 'importantes': 1,\n",
              " 'están': 2,\n",
              " 'llevando': 1,\n",
              " 'a': 4,\n",
              " 'cabo.': 1,\n",
              " 'En': 1,\n",
              " 'términos': 1,\n",
              " 'prácticos,': 1,\n",
              " '“el': 1,\n",
              " 'ciencia': 1,\n",
              " 'encarga': 1,\n",
              " 'hacer': 2,\n",
              " 'computadoras': 1,\n",
              " 'realicen': 1,\n",
              " 'acciones': 1,\n",
              " 'sin': 1,\n",
              " 'necesidad': 1,\n",
              " 'programación': 1,\n",
              " 'explícita”.': 1,\n",
              " 'La': 3,\n",
              " 'idea': 2,\n",
              " 'principal': 2,\n",
              " 'aquí': 1,\n",
              " 'les': 1,\n",
              " 'puede': 2,\n",
              " 'proporcionar': 1,\n",
              " 'datos': 3,\n",
              " 'algoritmos': 4,\n",
              " 'luego': 1,\n",
              " 'usarlos': 1,\n",
              " 'saber': 1,\n",
              " 'cómo': 1,\n",
              " 'predicciones': 1,\n",
              " 'o': 3,\n",
              " 'guiar': 1,\n",
              " 'decisiones.': 1,\n",
              " 'Algunos': 2,\n",
              " 'ejemplos': 2,\n",
              " 'incluyen': 1,\n",
              " 'siguientes:': 2,\n",
              " 'diagramas': 1,\n",
              " 'decisiones,': 1,\n",
              " 'agrupamiento,': 1,\n",
              " 'genéticos,': 1,\n",
              " 'redes': 2,\n",
              " 'Bayesianas': 1,\n",
              " 'profundo.': 1,\n",
              " 'profundo': 2,\n",
              " '¿Recuerda': 1,\n",
              " 'cuando': 1,\n",
              " 'Google': 1,\n",
              " 'anunció': 1,\n",
              " 'un': 10,\n",
              " 'algoritmo': 1,\n",
              " 'encontraba': 1,\n",
              " 'videos': 1,\n",
              " 'gatos': 1,\n",
              " 'Youtube?': 1,\n",
              " '(Si': 1,\n",
              " 'desea': 1,\n",
              " 'refrescar': 1,\n",
              " 'memoria': 1,\n",
              " 'haga': 1,\n",
              " 'clic': 1,\n",
              " 'aquí).': 1,\n",
              " 'Pues': 1,\n",
              " 'bien,': 1,\n",
              " 'esto': 1,\n",
              " 'profundo,': 1,\n",
              " 'una': 4,\n",
              " 'técnica': 1,\n",
              " 'neuronales': 1,\n",
              " '(el': 1,\n",
              " 'neuronas': 1,\n",
              " 'pueden': 1,\n",
              " 'simular': 1,\n",
              " 'mediante': 1,\n",
              " 'unidades': 1,\n",
              " 'computacionales)': 1,\n",
              " 'realizar': 1,\n",
              " 'tareas': 1,\n",
              " 'clasificación': 1,\n",
              " '(piense': 1,\n",
              " 'clasificar': 1,\n",
              " 'imagen': 1,\n",
              " 'gato,': 1,\n",
              " 'perro': 1,\n",
              " 'personas,': 1,\n",
              " 'por': 1,\n",
              " 'ejemplo).': 1,\n",
              " 'aplicaciones': 1,\n",
              " 'prácticas': 1,\n",
              " 'del': 2,\n",
              " 'son': 2,\n",
              " 'identificación': 2,\n",
              " 'vehículos,': 1,\n",
              " 'peatones': 1,\n",
              " 'placas': 1,\n",
              " 'matrícula': 1,\n",
              " 'vehículos': 1,\n",
              " 'autónomos,': 1,\n",
              " 'reconocimiento': 1,\n",
              " 'imagen,': 1,\n",
              " 'traducción': 1,\n",
              " 'procesamiento': 1,\n",
              " 'lenguaje': 1,\n",
              " 'natural.': 1,\n",
              " 'Descubrimiento': 1,\n",
              " 'inteligentes': 2,\n",
              " 'próximo': 1,\n",
              " 'paso': 1,\n",
              " 'soluciones': 1,\n",
              " 'IE': 2,\n",
              " '(Inteligencia': 1,\n",
              " 'empresarial).': 1,\n",
              " 'consiste': 1,\n",
              " 'permitir': 1,\n",
              " 'automatización': 1,\n",
              " 'total': 1,\n",
              " 'ciclo': 1,\n",
              " 'IE:': 1,\n",
              " 'incorporación': 1,\n",
              " 'preparación': 1,\n",
              " 'datos,': 1,\n",
              " 'análisis': 2,\n",
              " 'predictivo': 4,\n",
              " 'patrones': 1,\n",
              " 'hipótesis.': 1,\n",
              " 'Este': 1,\n",
              " 'ejemplo': 1,\n",
              " 'interesante': 1,\n",
              " 'recuperación': 1,\n",
              " 'acción.': 1,\n",
              " 'información': 1,\n",
              " 'ninguna': 1,\n",
              " 'herramienta': 1,\n",
              " 'había': 1,\n",
              " 'descubierto.': 1,\n",
              " 'Análisis': 1,\n",
              " 'Piense': 1,\n",
              " 'ese': 1,\n",
              " 'momento': 1,\n",
              " 'está': 1,\n",
              " 'contratando': 1,\n",
              " 'seguro': 1,\n",
              " 'auto': 1,\n",
              " 'agente': 1,\n",
              " 'le': 1,\n",
              " 'hace': 1,\n",
              " 'serie': 1,\n",
              " 'preguntas': 3,\n",
              " 'Estas': 1,\n",
              " 'relacionadas': 1,\n",
              " 'variables': 2,\n",
              " 'influyen': 1,\n",
              " 'riesgo.': 1,\n",
              " 'Detrás': 1,\n",
              " 'estas': 1,\n",
              " 'encuentra': 1,\n",
              " 'modelo': 2,\n",
              " 'informa': 1,\n",
              " 'sobre': 1,\n",
              " 'probabilidad': 3,\n",
              " 'ocurra': 1,\n",
              " 'accidente': 1,\n",
              " 'base': 1,\n",
              " 'edad,': 2,\n",
              " 'código': 2,\n",
              " 'postal,': 2,\n",
              " 'género,': 1,\n",
              " 'marca': 1,\n",
              " 'auto,': 1,\n",
              " 'etc.': 1,\n",
              " 'mismo': 1,\n",
              " 'principio': 1,\n",
              " 'emplea': 1,\n",
              " 'modelos': 5,\n",
              " 'predictivos': 1,\n",
              " 'crédito': 1,\n",
              " 'identificar': 1,\n",
              " 'buenos': 1,\n",
              " 'malos': 1,\n",
              " 'pagadores.': 1,\n",
              " 'Por': 1,\n",
              " 'lo': 1,\n",
              " 'tanto,': 1,\n",
              " '(o': 1,\n",
              " 'modelado)': 1,\n",
              " 'significa': 1,\n",
              " 'utilizar': 1,\n",
              " 'número': 2,\n",
              " '(ingresos,': 1,\n",
              " 'etc.)': 1,\n",
              " 'combinadas': 1,\n",
              " 'resultados': 1,\n",
              " '(por': 2,\n",
              " 'ejemplo,': 2,\n",
              " 'buen': 1,\n",
              " 'mal': 1,\n",
              " 'pagador)': 1,\n",
              " 'generar': 1,\n",
              " 'proporcione': 1,\n",
              " 'puntuación': 1,\n",
              " '(un': 1,\n",
              " 'entre': 2,\n",
              " '0': 1,\n",
              " '1)': 1,\n",
              " 'representa': 1,\n",
              " 'evento': 1,\n",
              " 'pago,': 1,\n",
              " 'migración': 2,\n",
              " 'clientes,': 2,\n",
              " 'accidente,': 1,\n",
              " 'etc.).': 1,\n",
              " 'Los': 1,\n",
              " 'uso': 1,\n",
              " 'negocios': 1,\n",
              " 'amplios:': 1,\n",
              " 'crédito,': 1,\n",
              " 'segmentación': 1,\n",
              " 'clientes': 1,\n",
              " '(agrupamiento),': 1,\n",
              " 'compra': 1,\n",
              " 'otros.': 1,\n",
              " '': 1}"
            ]
          },
          "execution_count": 14,
          "metadata": {},
          "output_type": "execute_result"
        }
      ],
      "source": [
        "#Crearemos la función data_mining para generar un diccionario con la estructura requerida\n",
        "def data_mining(ruta: str)->dict:\n",
        "  \"\"\" This function returns a dictionary of every word in a string with the count of times every word appears in the string.\n",
        "\n",
        " Parameters\n",
        " ----------\n",
        " ruta : str\n",
        " Path of the file to read.\n",
        "\n",
        " Returns\n",
        " -------\n",
        " dict\n",
        " Dictionary with every word in a string with the count of times every word appears in the string.\n",
        "\n",
        " Examples\n",
        " --------\n",
        " data_mining(\"inteligencia.txt\")\n",
        " {'Ahora': 1, 'que': 17, 'ya': 1, 'conoce': 1, 'la': 14, 'definición': 1,'de': 51,...}\n",
        "\"\"\"\n",
        "\n",
        "  #abrimos el archivo a leer\n",
        "  archivo = open(ruta)\n",
        "  \n",
        "  # se gudarda en una variable el resultado de leer el archivo\n",
        "  cadenota = archivo.read()\n",
        "  archivo.close()\n",
        "  # generamos una lista con las palabaras utilizando el espacio en blanco\n",
        "  # como patron delimitador para obtener cada una de las palabras\n",
        "  lista_palabras = re.split('\\s+', cadenota)\n",
        "  \n",
        "  # se crea un diccionario para contar la frecuencia de las palabras\n",
        "  diccionario = {}\n",
        "\n",
        "  # contamos la frecuencia de cada palabra\n",
        "  for palabra in lista_palabras:\n",
        "    # cada palabra es agregada al diccionario, si ya se tiene tal llave se suma 1\n",
        "    # en caso de no existir dicha palabra se devuelve cero. En cualquier caso\n",
        "    # se suma uno por cada vez que aparezca dicha palabra\n",
        "    diccionario[palabra] = diccionario.get(palabra, 0) + 1\n",
        "      \n",
        "  # antes de procesar la cadenota deberia pasar un proceso de limpieza en el\n",
        "  # cual mediante regex se eliminaran palabras muy frecuentes como articulos\n",
        "  return(diccionario)\n",
        "\n",
        "data_mining(\"inteligencia.txt\")"
      ]
    },
    {
      "attachments": {},
      "cell_type": "markdown",
      "metadata": {
        "id": "jejEsw6V2I_j"
      },
      "source": [
        "##Sobre qué va el texto:"
      ]
    },
    {
      "cell_type": "code",
      "execution_count": null,
      "metadata": {
        "colab": {
          "base_uri": "https://localhost:8080/"
        },
        "id": "pxrGd8E7_HEP",
        "outputId": "9ba9d1a8-e757-42e3-b6cf-4fe2e0261f78"
      },
      "outputs": [
        {
          "name": "stdout",
          "output_type": "stream",
          "text": [
            "{'conoce': 1, 'definición': 1, 'IA': 4, 'historia': 1, 'forma': 1, 'profundizar': 1, 'tema': 1, 'principales': 1, 'técnicas': 1, 'específicamente': 1, 'casos': 2, 'Inteligencia': 2, 'artificial': 1, 'utiliza': 2, 'negocios': 2, 'Aprendizaje': 10, 'automático': 6, 'Generalmente': 1, 'concepto': 3, 'confunde': 1, 'débil': 1, 'campo': 1, 'avances': 1, 'importantes': 1, 'llevando': 1, 'cabo': 1, 'términos': 1, 'prácticos': 1, 'ciencia': 1, 'encarga': 1, 'computadoras': 1, 'realicen': 1, 'acciones': 1, 'necesidad': 1, 'programación': 1, 'explícita': 1, 'idea': 2, 'principal': 2, 'proporcionar': 1, 'datos': 4, 'algoritmos': 4, 'usarlos': 1, 'predicciones': 1, 'guiar': 1, 'decisiones': 2, 'ejemplos': 2, 'incluyen': 1, 'siguientes': 2, 'diagramas': 1, 'agrupamiento': 2, 'genéticos': 1, 'redes': 2, 'Bayesianas': 1, 'profundo': 4, 'Recuerda': 1, 'Google': 1, 'anunció': 1, 'algoritmo': 1, 'encontraba': 1, 'videos': 1, 'gatos': 1, 'Youtube': 1, 'desea': 1, 'refrescar': 1, 'memoria': 1, 'haga': 1, 'clic': 1, 'técnica': 1, 'neuronales': 1, 'neuronas': 1, 'simular': 1, 'unidades': 1, 'computacionales': 1, 'tareas': 1, 'clasificación': 1, 'piense': 1, 'clasificar': 1, 'imagen': 2, 'gato': 1, 'perro': 1, 'personas': 1, 'ejemplo': 4, 'aplicaciones': 1, 'prácticas': 1, 'identificación': 2, 'vehículos': 2, 'peatones': 1, 'placas': 1, 'matrícula': 1, 'autónomos': 1, 'reconocimiento': 1, 'traducción': 1, 'procesamiento': 1, 'lenguaje': 1, 'natural': 1, 'Descubrimiento': 1, 'inteligentes': 2, 'paso': 1, 'soluciones': 1, 'IE': 3, 'empresarial': 1, 'consiste': 1, 'permitir': 1, 'automatización': 1, 'ciclo': 1, 'incorporación': 1, 'preparación': 1, 'análisis': 2, 'predictivo': 4, 'patrones': 1, 'hipótesis': 1, 'interesante': 1, 'recuperación': 1, 'acción': 1, 'información': 1, 'herramienta': 1, 'descubierto': 1, 'Análisis': 1, 'Piense': 1, 'momento': 1, 'contratando': 1, 'seguro': 1, 'auto': 2, 'agente': 1, 'serie': 1, 'preguntas': 3, 'relacionadas': 1, 'variables': 2, 'influyen': 1, 'riesgo': 1, 'modelo': 2, 'informa': 1, 'probabilidad': 3, 'ocurra': 1, 'accidente': 2, 'base': 1, 'edad': 2, 'código': 2, 'postal': 2, 'género': 1, 'marca': 1, 'etc.': 3, 'principio': 1, 'emplea': 1, 'modelos': 5, 'predictivos': 1, 'crédito': 2, 'identificar': 1, 'malos': 1, 'pagadores': 1, 'modelado': 1, 'significa': 1, 'utilizar': 1, 'número': 2, 'ingresos': 1, 'combinadas': 1, 'resultados': 1, 'pagador': 1, 'generar': 1, 'proporcione': 1, 'puntuación': 1, '0': 1, '1': 1, 'representa': 1, 'evento': 1, 'pago': 1, 'migración': 2, 'clientes': 3, 'amplios': 1, 'segmentación': 1, 'compra': 1, '': 1}\n",
            "[('Aprendizaje', 10), ('automático', 6), ('modelos', 5), ('IA', 4), ('datos', 4), ('algoritmos', 4), ('profundo', 4), ('ejemplo', 4), ('predictivo', 4), ('concepto', 3), ('IE', 3), ('preguntas', 3), ('probabilidad', 3), ('etc.', 3), ('clientes', 3), ('casos', 2), ('Inteligencia', 2), ('utiliza', 2), ('negocios', 2), ('idea', 2), ('principal', 2), ('decisiones', 2), ('ejemplos', 2), ('siguientes', 2), ('agrupamiento', 2), ('redes', 2), ('imagen', 2), ('identificación', 2), ('vehículos', 2), ('inteligentes', 2), ('análisis', 2), ('auto', 2), ('variables', 2), ('modelo', 2), ('accidente', 2), ('edad', 2), ('código', 2), ('postal', 2), ('crédito', 2), ('número', 2), ('migración', 2), ('conoce', 1), ('definición', 1), ('historia', 1), ('forma', 1), ('profundizar', 1), ('tema', 1), ('principales', 1), ('técnicas', 1), ('específicamente', 1), ('artificial', 1), ('Generalmente', 1), ('confunde', 1), ('débil', 1), ('campo', 1), ('avances', 1), ('importantes', 1), ('llevando', 1), ('cabo', 1), ('términos', 1), ('prácticos', 1), ('ciencia', 1), ('encarga', 1), ('computadoras', 1), ('realicen', 1), ('acciones', 1), ('necesidad', 1), ('programación', 1), ('explícita', 1), ('proporcionar', 1), ('usarlos', 1), ('predicciones', 1), ('guiar', 1), ('incluyen', 1), ('diagramas', 1), ('genéticos', 1), ('Bayesianas', 1), ('Recuerda', 1), ('Google', 1), ('anunció', 1), ('algoritmo', 1), ('encontraba', 1), ('videos', 1), ('gatos', 1), ('Youtube', 1), ('desea', 1), ('refrescar', 1), ('memoria', 1), ('haga', 1), ('clic', 1), ('técnica', 1), ('neuronales', 1), ('neuronas', 1), ('simular', 1), ('unidades', 1), ('computacionales', 1), ('tareas', 1), ('clasificación', 1), ('piense', 1), ('clasificar', 1), ('gato', 1), ('perro', 1), ('personas', 1), ('aplicaciones', 1), ('prácticas', 1), ('peatones', 1), ('placas', 1), ('matrícula', 1), ('autónomos', 1), ('reconocimiento', 1), ('traducción', 1), ('procesamiento', 1), ('lenguaje', 1), ('natural', 1), ('Descubrimiento', 1), ('paso', 1), ('soluciones', 1), ('empresarial', 1), ('consiste', 1), ('permitir', 1), ('automatización', 1), ('ciclo', 1), ('incorporación', 1), ('preparación', 1), ('patrones', 1), ('hipótesis', 1), ('interesante', 1), ('recuperación', 1), ('acción', 1), ('información', 1), ('herramienta', 1), ('descubierto', 1), ('Análisis', 1), ('Piense', 1), ('momento', 1), ('contratando', 1), ('seguro', 1), ('agente', 1), ('serie', 1), ('relacionadas', 1), ('influyen', 1), ('riesgo', 1), ('informa', 1), ('ocurra', 1), ('base', 1), ('género', 1), ('marca', 1), ('principio', 1), ('emplea', 1), ('predictivos', 1), ('identificar', 1), ('malos', 1), ('pagadores', 1), ('modelado', 1), ('significa', 1), ('utilizar', 1), ('ingresos', 1), ('combinadas', 1), ('resultados', 1), ('pagador', 1), ('generar', 1), ('proporcione', 1), ('puntuación', 1), ('0', 1), ('1', 1), ('representa', 1), ('evento', 1), ('pago', 1), ('amplios', 1), ('segmentación', 1), ('compra', 1), ('', 1)]\n"
          ]
        }
      ],
      "source": [
        "\"\"\"Para poder remover los pronombres y procesar la información, agregaremos el módulo spicy que nos ayudará a remover\n",
        "   pronombres para filtrar antes de obtener el diccionario y procesar mejor los datos.\"\"\"\n",
        "def data_mining_filtrado(ruta: str)->list:\n",
        "  \"\"\" This function returns a organized list (by most to less frecuency of appearence in the string) of every word in a string with the count of times every word appears in the string.\n",
        "\n",
        " Parameters\n",
        " ----------\n",
        " ruta : str\n",
        " Path of the file to read.\n",
        "\n",
        " Returns\n",
        " -------\n",
        " list\n",
        " Organized list (by most to less frecuency of appearence in the string) of every word in a string with the count of times every word appears in the string.\n",
        "\n",
        " Examples\n",
        " --------\n",
        " data_mining_filtrado(\"inteligencia.txt\")\n",
        " [('Aprendizaje', 10), ('automático', 6), ('modelos', 5), ('IA', 4), ('datos', 4),...]\n",
        "\"\"\"\n",
        "\n",
        "  \"\"\"------AQUÍ SE USA SPICY------\"\"\"\n",
        "  #abrimos el archivo a leer\n",
        "  archivo = open(ruta)\n",
        "  #Definimos el lenguaje en spicy(español)\n",
        "  lan = spacy.load('es_core_news_sm')\n",
        "  #Asignamos nuestra cadena del archivo a una variable\n",
        "  text = archivo.read()\n",
        "  #Generamos nuestros tokens basados en la cadena del archivo \n",
        "  doc = lan(text)\n",
        "  #Filtramos los tokens eliminando puntuaciones y stopwords(pronombres)\n",
        "  lexical_tokens = [t.orth_ for t in doc if not t.is_punct | t.is_stop]\n",
        "  #Creamos una nueva cadena filtrada seprada por espacios\n",
        "  cadenota=' '.join(lexical_tokens)\n",
        "  \n",
        "  # generamos una lista con las palabaras utilizando el espacio en blanco\n",
        "  # como patron delimitador para obtener cada una de las palabras\n",
        "  lista_palabras = re.split('\\s+', cadenota)\n",
        "  \n",
        "  # se crea un diccionario para contar la frecuencia de las palabras\n",
        "  diccionario = {}\n",
        "\n",
        "  # contamos la frecuencia de cada palabra\n",
        "  for palabra in lista_palabras:\n",
        "    # cada palabra es agregada al diccionario, si ya se tiene tal llave se suma 1\n",
        "    # en caso de no existir dicha palabra se devuelve cero. En cualquier caso\n",
        "    # se suma uno por cada vez que aparezca dicha palabra\n",
        "    diccionario[palabra] = diccionario.get(palabra, 0) + 1\n",
        "      \n",
        "  # antes de procesar la cadenota deberia pasar un proceso de limpieza en el\n",
        "  # cual mediante regex se eliminaran palabras muy frecuentes como articulos\n",
        "  print(diccionario)\n",
        "\n",
        "  \"\"\"---AQUI PROCESAMOS LOS DATOS PARA ORDENAR EL DICCIONARIO---\"\"\"\n",
        "  # usando el paquete collections podemos ordenar el diccionario, a pesar\n",
        "  # de que no es una cualidad de los diccionaros\n",
        "  contador = Counter(diccionario)\n",
        "  diccionarioOrdenado = contador.most_common()\n",
        "\n",
        "  # Se imprime el diccionario ordenado para saber facilmente de que trato el\n",
        "  # el texto de la cadenota\n",
        "  print(diccionarioOrdenado)\n",
        "  archivo.close()\n",
        "\n",
        "if __name__ == \"__main__\":\n",
        "  # ruta donde se ubica el texto a analizar\n",
        "  data_mining_filtrado(\"inteligencia.txt\")"
      ]
    },
    {
      "attachments": {},
      "cell_type": "markdown",
      "metadata": {
        "id": "TCqGUVAhGvaT"
      },
      "source": [
        "Podemos notar que las palabras filtradas que más aparecen son \"aprendizaje\", \"automático\", \"modelos\" e \"IA\" por lo cual podemos inferir que el texto trata de inteligencia artificial y aprendizaje automatizado."
      ]
    },
    {
      "attachments": {},
      "cell_type": "markdown",
      "metadata": {
        "id": "-i-AwLkdJd1h"
      },
      "source": [
        "# Arboles de la Barranca"
      ]
    },
    {
      "attachments": {},
      "cell_type": "markdown",
      "metadata": {
        "id": "mNxMtazyJbpz"
      },
      "source": [
        "## Árbol B:\n",
        "Ventajas:\n",
        "- Permite más de dos hijos.\n",
        "- Permite iteraciones sobre sus elementos.\n",
        "- Su estructura plana facilita atravesar sus datos de forma eficiente.\n",
        "- Puede reducir costos al borrar un elemento cuando hay muchos otros elementos.\n",
        "- Acceso ordenado de forma secuencial, hace su comportamiento tan efectivo como una tabla hash.\n",
        "\n",
        "Aplicaciones:\n",
        "Es una generalización del arbol de busqueda binaria, permite nodos con más de dos hijos. El B-tree funciona muuy bien para sistemas de almacenamiento que leen y escriben bloques de datos relativamente largos, como bases de datos y ficheros de archivos."
      ]
    },
    {
      "attachments": {},
      "cell_type": "markdown",
      "metadata": {
        "id": "v7997tB8JgM7"
      },
      "source": [
        "## Árbol rojo-negro:\n",
        "\n",
        "Ventajas:\n",
        "- Mejora del ABB\n",
        "- Inserción y borrado más rápido que en un AVL.\n",
        "- Sirven muy bien para arreglos asociativos.\n",
        "- Autobalanceables.\n",
        "- Ventajas similares al AVL\n",
        "\n",
        "Aplicaciones:\n",
        "Son muy valiosos para aplicaciones en tiempo real, construcción de bloques en estructuras de datos como las usadas en la geometría computacional. Tambien son muy valiosos en programacion funcional, siendo muy uados en la construcción de arrays asociativos."
      ]
    },
    {
      "attachments": {},
      "cell_type": "markdown",
      "metadata": {
        "id": "TOPHOS4gJgfM"
      },
      "source": [
        "## Árbol AA:\n",
        "\n",
        "Ventajas:\n",
        "- Rendimiento equivalente al Arbol rojo-negro\n",
        "- Sencillez en sus algoritmos\n",
        "- Tiende a ser más llano lo cual facilita la busqueda\n",
        "- Código más sencillo\n",
        "Aplicaciones:\n",
        "Suele ser usado para almacenamiento de datos similares al AVL tree y al Red and black tree"
      ]
    },
    {
      "attachments": {},
      "cell_type": "markdown",
      "metadata": {
        "id": "Z80pkDNIJs60"
      },
      "source": [
        "## Skiplist:\n",
        "\n",
        "Ventajas:\n",
        "- Eficiencia comparable a la de un AB y orden similar\n",
        "- Rápidas y ocupan poco espacio\n",
        "- Operaciones más simples y de complejidad menor que el ABB.\n",
        "- Estructura robusta, con posibilidades de error y degradado menores\n",
        "- Recuperación mucho más sencilla\n",
        "\n",
        "Aplicaciones:\n",
        "Hay una gran lista de programas que usan skip lists i.e. Apache Portable Runtime, MemSQL,..., también son usada para computaciones estadisticas eficientes de medianas movibles."
      ]
    },
    {
      "attachments": {},
      "cell_type": "markdown",
      "metadata": {
        "id": "pGtLh6-3Jt6p"
      },
      "source": [
        "## Max/Min Heap tree:\n",
        "\n",
        "Ventajas:\n",
        "- Facilita encontrar el máximo y mínimo valor.\n",
        "- Suelen ser usados eficientemente con algoritmos de gráficas.\n",
        "- Ventajas similares al AVL\n",
        "\n",
        "Aplicaciones:\n",
        "Suelen ser usados en esperas prioritarias donde los elementos pueden ser ordenados segun su prioridad y ser más eficientes. Su propio sistema de ordenamiento es usado para indices en bases de datos. Se suele ussar para manejo de memoria, pues permite organizar los bloques de memoria eficientemente para alojarlos en los programas según sea necesario. También es bueno para algoritmos de gráficas como el algoritmo de Dijkstra."
      ]
    },
    {
      "attachments": {},
      "cell_type": "markdown",
      "metadata": {
        "id": "shAUg0x0Jv83"
      },
      "source": [
        "## Treap:\n",
        "\n",
        "Ventajas:\n",
        "- Se autobalancea debido a la probabilidad de que cada nodo es asignado a una prioridad aleatoria\n",
        "- Se puede usar para representaciones en rangos definidos\n",
        "- Suele ser efectivo para resolucion de problemas\n",
        "\n",
        "Aplicaciones:\n",
        "Se suele usar para resolver problemas de conectividad, permite operaciones en rangos definidos y funciona bien con conceptos como la variable aleatoria."
      ]
    },
    {
      "attachments": {},
      "cell_type": "markdown",
      "metadata": {
        "id": "MtRZxsvrJyW7"
      },
      "source": [
        "## Scapegoat:\n",
        "\n",
        "Ventajas:\n",
        "- Autobalanceable\n",
        "- Alta velocidad de inserción y busqueda\n",
        "- Implementación flexible.\n",
        "\n",
        "\n",
        "Aplicaciones:\n",
        "Se recomienda su uso en procesos donde predomine la inserción y la busqueda, pues es en donde se desempeña mejor."
      ]
    },
    {
      "attachments": {},
      "cell_type": "markdown",
      "metadata": {
        "id": "X4VqnUCgJ2Q1"
      },
      "source": [
        "## Splay tree\n",
        "\n",
        "Ventajas:\n",
        "- Autobalanceable\n",
        "- Los elementos accedidos recientemente son más accesibles en accesos posteriores.\n",
        "- Puede tener mejor rendimiento en secuencias no uniformes que otras estructuras de datos\n",
        "- Operación biselacón: trae elementos hasta la raíz\n",
        "- Simple de implementar con buena eficiencia\n",
        "- Uso eficiente de memoria\n",
        "Aplicaciones:\n",
        "Implementación de cachés, y algoritmos de recholección de basura."
      ]
    }
  ],
  "metadata": {
    "colab": {
      "provenance": []
    },
    "kernelspec": {
      "display_name": "Python 3",
      "name": "python3"
    },
    "language_info": {
      "name": "python"
    }
  },
  "nbformat": 4,
  "nbformat_minor": 0
}
